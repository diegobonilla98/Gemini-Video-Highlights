{
  "metadata": {
    "kernelspec": {
      "language": "python",
      "display_name": "Python 3",
      "name": "python3"
    },
    "language_info": {
      "name": "python",
      "version": "3.10.14",
      "mimetype": "text/x-python",
      "codemirror_mode": {
        "name": "ipython",
        "version": 3
      },
      "pygments_lexer": "ipython3",
      "nbconvert_exporter": "python",
      "file_extension": ".py"
    },
    "kaggle": {
      "accelerator": "none",
      "dataSources": [
        {
          "sourceId": 9682943,
          "sourceType": "datasetVersion",
          "datasetId": 5918870
        }
      ],
      "dockerImageVersionId": 30786,
      "isInternetEnabled": true,
      "language": "python",
      "sourceType": "notebook",
      "isGpuEnabled": false
    },
    "colab": {
      "provenance": []
    }
  },
  "nbformat_minor": 0,
  "nbformat": 4,
  "cells": [
    {
      "cell_type": "markdown",
      "source": [
        "# Gemini Video Highlights\n",
        "\n",
        "This idea leverages Google's Gemini LLM, specifically its long attention and caching capabilities, to handle extensive video inputs effectively. Processing full-length videos requires the ability to maintain context over long durations, which is challenging for most language models. Gemini's advanced architecture makes it possible to analyze lengthy video content without losing track of important details, enabling comprehensive understanding and processing that would be difficult or impossible with standard models.\n",
        "\n",
        "The proposed solution uses Gemini to generate a JSON of video highlights, each with start and end timestamps, content descriptions, and an importance score. An additional algorithm then trims the original video based on these highlights and overlays captions that summarize each section. By assigning importance scores, the model ensures that only the most significant parts of the video are included, allowing users to control the length and focus of the summary. Furthermore, since the context is cached, users can request more detailed analyses on specific topics within the video, enhancing the flexibility and usefulness of the summary."
      ],
      "metadata": {
        "_uuid": "8f2839f25d086af736a60e9eeb907d3b93b6e0e5",
        "_cell_guid": "b1076dfc-b9ad-4769-8c92-a6c4dae69d19",
        "id": "bKqd-1q1vtDK"
      }
    },
    {
      "cell_type": "code",
      "source": [
        "!pip install google-generativeai\n",
        "!pip install ffmpeg-python\n",
        "# You might need to reset the compute (Restart and run up to selected cell) and execute this cell again"
      ],
      "metadata": {
        "execution": {
          "iopub.status.busy": "2024-10-21T14:40:03.600799Z",
          "iopub.execute_input": "2024-10-21T14:40:03.601658Z",
          "iopub.status.idle": "2024-10-21T14:40:45.730098Z",
          "shell.execute_reply.started": "2024-10-21T14:40:03.601608Z",
          "shell.execute_reply": "2024-10-21T14:40:45.728481Z"
        },
        "trusted": true,
        "id": "752zpjoQvtDK",
        "outputId": "cfc7821b-7517-4c3f-f07a-110a4fbd167d"
      },
      "execution_count": null,
      "outputs": [
        {
          "name": "stdout",
          "text": "Requirement already satisfied: google-generativeai in /opt/conda/lib/python3.10/site-packages (0.8.2)\nRequirement already satisfied: google-ai-generativelanguage==0.6.10 in /opt/conda/lib/python3.10/site-packages (from google-generativeai) (0.6.10)\nRequirement already satisfied: google-api-core in /opt/conda/lib/python3.10/site-packages (from google-generativeai) (2.11.1)\nRequirement already satisfied: google-api-python-client in /opt/conda/lib/python3.10/site-packages (from google-generativeai) (2.147.0)\nRequirement already satisfied: google-auth>=2.15.0 in /opt/conda/lib/python3.10/site-packages (from google-generativeai) (2.30.0)\nRequirement already satisfied: protobuf in /opt/conda/lib/python3.10/site-packages (from google-generativeai) (3.20.3)\nRequirement already satisfied: pydantic in /opt/conda/lib/python3.10/site-packages (from google-generativeai) (2.9.2)\nRequirement already satisfied: tqdm in /opt/conda/lib/python3.10/site-packages (from google-generativeai) (4.66.4)\nRequirement already satisfied: typing-extensions in /opt/conda/lib/python3.10/site-packages (from google-generativeai) (4.12.2)\nRequirement already satisfied: proto-plus<2.0.0dev,>=1.22.3 in /opt/conda/lib/python3.10/site-packages (from google-ai-generativelanguage==0.6.10->google-generativeai) (1.23.0)\nRequirement already satisfied: googleapis-common-protos<2.0.dev0,>=1.56.2 in /opt/conda/lib/python3.10/site-packages (from google-api-core->google-generativeai) (1.63.1)\nRequirement already satisfied: requests<3.0.0.dev0,>=2.18.0 in /opt/conda/lib/python3.10/site-packages (from google-api-core->google-generativeai) (2.32.3)\nRequirement already satisfied: cachetools<6.0,>=2.0.0 in /opt/conda/lib/python3.10/site-packages (from google-auth>=2.15.0->google-generativeai) (4.2.4)\nRequirement already satisfied: pyasn1-modules>=0.2.1 in /opt/conda/lib/python3.10/site-packages (from google-auth>=2.15.0->google-generativeai) (0.4.0)\nRequirement already satisfied: rsa<5,>=3.1.4 in /opt/conda/lib/python3.10/site-packages (from google-auth>=2.15.0->google-generativeai) (4.9)\nRequirement already satisfied: httplib2<1.dev0,>=0.19.0 in /opt/conda/lib/python3.10/site-packages (from google-api-python-client->google-generativeai) (0.21.0)\nRequirement already satisfied: google-auth-httplib2<1.0.0,>=0.2.0 in /opt/conda/lib/python3.10/site-packages (from google-api-python-client->google-generativeai) (0.2.0)\nRequirement already satisfied: uritemplate<5,>=3.0.1 in /opt/conda/lib/python3.10/site-packages (from google-api-python-client->google-generativeai) (3.0.1)\nRequirement already satisfied: annotated-types>=0.6.0 in /opt/conda/lib/python3.10/site-packages (from pydantic->google-generativeai) (0.7.0)\nRequirement already satisfied: pydantic-core==2.23.4 in /opt/conda/lib/python3.10/site-packages (from pydantic->google-generativeai) (2.23.4)\nRequirement already satisfied: grpcio<2.0dev,>=1.33.2 in /opt/conda/lib/python3.10/site-packages (from google-api-core[grpc]!=2.0.*,!=2.1.*,!=2.10.*,!=2.2.*,!=2.3.*,!=2.4.*,!=2.5.*,!=2.6.*,!=2.7.*,!=2.8.*,!=2.9.*,<3.0.0dev,>=1.34.1->google-ai-generativelanguage==0.6.10->google-generativeai) (1.64.1)\nRequirement already satisfied: grpcio-status<2.0.dev0,>=1.33.2 in /opt/conda/lib/python3.10/site-packages (from google-api-core[grpc]!=2.0.*,!=2.1.*,!=2.10.*,!=2.2.*,!=2.3.*,!=2.4.*,!=2.5.*,!=2.6.*,!=2.7.*,!=2.8.*,!=2.9.*,<3.0.0dev,>=1.34.1->google-ai-generativelanguage==0.6.10->google-generativeai) (1.48.0)\nRequirement already satisfied: pyparsing!=3.0.0,!=3.0.1,!=3.0.2,!=3.0.3,<4,>=2.4.2 in /opt/conda/lib/python3.10/site-packages (from httplib2<1.dev0,>=0.19.0->google-api-python-client->google-generativeai) (3.1.2)\nRequirement already satisfied: pyasn1<0.7.0,>=0.4.6 in /opt/conda/lib/python3.10/site-packages (from pyasn1-modules>=0.2.1->google-auth>=2.15.0->google-generativeai) (0.6.0)\nRequirement already satisfied: charset-normalizer<4,>=2 in /opt/conda/lib/python3.10/site-packages (from requests<3.0.0.dev0,>=2.18.0->google-api-core->google-generativeai) (3.3.2)\nRequirement already satisfied: idna<4,>=2.5 in /opt/conda/lib/python3.10/site-packages (from requests<3.0.0.dev0,>=2.18.0->google-api-core->google-generativeai) (3.7)\nRequirement already satisfied: urllib3<3,>=1.21.1 in /opt/conda/lib/python3.10/site-packages (from requests<3.0.0.dev0,>=2.18.0->google-api-core->google-generativeai) (1.26.18)\nRequirement already satisfied: certifi>=2017.4.17 in /opt/conda/lib/python3.10/site-packages (from requests<3.0.0.dev0,>=2.18.0->google-api-core->google-generativeai) (2024.8.30)\nRequirement already satisfied: moviepy in /opt/conda/lib/python3.10/site-packages (1.0.3)\nRequirement already satisfied: decorator<5.0,>=4.0.2 in /opt/conda/lib/python3.10/site-packages (from moviepy) (4.4.2)\nRequirement already satisfied: tqdm<5.0,>=4.11.2 in /opt/conda/lib/python3.10/site-packages (from moviepy) (4.66.4)\nRequirement already satisfied: requests<3.0,>=2.8.1 in /opt/conda/lib/python3.10/site-packages (from moviepy) (2.32.3)\nRequirement already satisfied: proglog<=1.0.0 in /opt/conda/lib/python3.10/site-packages (from moviepy) (0.1.10)\nRequirement already satisfied: numpy>=1.17.3 in /opt/conda/lib/python3.10/site-packages (from moviepy) (1.26.4)\nRequirement already satisfied: imageio<3.0,>=2.5 in /opt/conda/lib/python3.10/site-packages (from moviepy) (2.34.1)\nRequirement already satisfied: imageio-ffmpeg>=0.2.0 in /opt/conda/lib/python3.10/site-packages (from moviepy) (0.5.1)\nRequirement already satisfied: pillow>=8.3.2 in /opt/conda/lib/python3.10/site-packages (from imageio<3.0,>=2.5->moviepy) (10.3.0)\nRequirement already satisfied: setuptools in /opt/conda/lib/python3.10/site-packages (from imageio-ffmpeg>=0.2.0->moviepy) (70.0.0)\nRequirement already satisfied: charset-normalizer<4,>=2 in /opt/conda/lib/python3.10/site-packages (from requests<3.0,>=2.8.1->moviepy) (3.3.2)\nRequirement already satisfied: idna<4,>=2.5 in /opt/conda/lib/python3.10/site-packages (from requests<3.0,>=2.8.1->moviepy) (3.7)\nRequirement already satisfied: urllib3<3,>=1.21.1 in /opt/conda/lib/python3.10/site-packages (from requests<3.0,>=2.8.1->moviepy) (1.26.18)\nRequirement already satisfied: certifi>=2017.4.17 in /opt/conda/lib/python3.10/site-packages (from requests<3.0,>=2.8.1->moviepy) (2024.8.30)\nReading package lists... Done\nBuilding dependency tree       \nReading state information... Done\nffmpeg is already the newest version (7:4.2.7-0ubuntu0.1).\n0 upgraded, 0 newly installed, 0 to remove and 41 not upgraded.\nReading package lists... Done\nBuilding dependency tree       \nReading state information... Done\nimagemagick is already the newest version (8:6.9.10.23+dfsg-2.1ubuntu11.10).\n0 upgraded, 0 newly installed, 0 to remove and 41 not upgraded.\nReading package lists... Done\nBuilding dependency tree       \nReading state information... Done\nlibmagick++-dev is already the newest version (8:6.9.10.23+dfsg-2.1ubuntu11.10).\n0 upgraded, 0 newly installed, 0 to remove and 41 not upgraded.\n",
          "output_type": "stream"
        }
      ]
    },
    {
      "cell_type": "code",
      "source": [
        "import os\n",
        "import random\n",
        "import datetime\n",
        "import time\n",
        "import json\n",
        "import subprocess\n",
        "import tempfile\n",
        "\n",
        "import ffmpeg\n",
        "\n",
        "from google.generativeai.types import GenerationConfig\n",
        "import google.generativeai as genai\n",
        "from google.generativeai import caching"
      ],
      "metadata": {
        "execution": {
          "iopub.status.busy": "2024-10-21T15:23:06.906618Z",
          "iopub.execute_input": "2024-10-21T15:23:06.907189Z",
          "iopub.status.idle": "2024-10-21T15:23:06.955491Z",
          "shell.execute_reply.started": "2024-10-21T15:23:06.907136Z",
          "shell.execute_reply": "2024-10-21T15:23:06.954017Z"
        },
        "trusted": true,
        "id": "g4Xp0379vtDL"
      },
      "execution_count": null,
      "outputs": []
    },
    {
      "cell_type": "code",
      "source": [
        "from kaggle_secrets import UserSecretsClient\n",
        "secret_label = \"API_KEY\"\n",
        "user_secrets = UserSecretsClient()\n",
        "api_key = user_secrets.get_secret(\"API_KEY\")\n",
        "genai.configure(api_key=api_key)"
      ],
      "metadata": {
        "execution": {
          "iopub.status.busy": "2024-10-21T13:39:50.194564Z",
          "iopub.execute_input": "2024-10-21T13:39:50.195031Z",
          "iopub.status.idle": "2024-10-21T13:39:50.319581Z",
          "shell.execute_reply.started": "2024-10-21T13:39:50.194985Z",
          "shell.execute_reply": "2024-10-21T13:39:50.318257Z"
        },
        "trusted": true,
        "id": "7e4rh0GavtDL"
      },
      "execution_count": null,
      "outputs": []
    },
    {
      "cell_type": "code",
      "source": [
        "def time_to_seconds(t):\n",
        "    # Parse timestamps to seconds\n",
        "    if \":\" in t:\n",
        "        sep = \":\"\n",
        "    elif \".\" in t:\n",
        "        sep = \".\"\n",
        "    else:\n",
        "        raise Exception(\"Timestamp format not correct\")\n",
        "    ext = list(map(int, t.split(sep)))\n",
        "    if len(ext) == 2:\n",
        "        min, sec = ext\n",
        "        hour = 0\n",
        "    elif len(ext) == 3:\n",
        "        hour, min, sec = ext\n",
        "    return hour * 60 * 60 + min * 60 + sec\n",
        "\n",
        "\n",
        "def importance_conditioned_sampling(entries, p):\n",
        "    # If the user wants only a portion of the highlight to reduce the video duration, sample the most important ones first\n",
        "    sample_size = int(len(entries) * p)\n",
        "    weights = [float(entry.get('importance', 0.)) for entry in entries]\n",
        "    sampled_entries = random.choices(entries, weights=weights, k=sample_size)\n",
        "    sampled_sorted_by_time = sorted(sampled_entries, key=lambda x: x['start_time'])\n",
        "    return sampled_sorted_by_time\n",
        "\n",
        "\n",
        "def merge_overlapping_highlights(highlights):\n",
        "    # Merge overlapping highlights, keeping the content of the last one\n",
        "    if not highlights:\n",
        "        return []\n",
        "    # Sort highlights by start_time\n",
        "    sorted_highlights = sorted(highlights, key=lambda x: x[\"start_time\"])\n",
        "    merged = [sorted_highlights[0]]\n",
        "    for current in sorted_highlights[1:]:\n",
        "        last = merged[-1]\n",
        "        # Check if current highlight overlaps with the last merged highlight\n",
        "        if current[\"start_time\"] <= last[\"end_time\"]:\n",
        "            # Merge the two highlights\n",
        "            merged_end_time = max(last[\"end_time\"], current[\"end_time\"])\n",
        "            # Update the last merged highlight\n",
        "            merged[-1] = {\n",
        "                \"start_time\": last[\"start_time\"],\n",
        "                \"end_time\": merged_end_time,\n",
        "                \"content\": current[\"content\"],  # Keep content of the last one\n",
        "                \"importance\": current[\"importance\"]\n",
        "            }\n",
        "        else:\n",
        "            # No overlap, add to merged list\n",
        "            merged.append(current)\n",
        "    return merged\n",
        "\n",
        "\n",
        "def get_video_length(video_path):\n",
        "    # Command to get duration using ffprobe\n",
        "    command = [\n",
        "        'ffprobe',\n",
        "        '-v', 'error',\n",
        "        '-select_streams', 'v:0',\n",
        "        '-show_entries', 'stream=duration',\n",
        "        '-of', 'default=noprint_wrappers=1:nokey=1',\n",
        "        video_path\n",
        "    ]\n",
        "    # Execute the command\n",
        "    result = subprocess.run(command, stdout=subprocess.PIPE, stderr=subprocess.PIPE, text=True)\n",
        "    # Convert the output to a float\n",
        "    duration = float(result.stdout.strip())\n",
        "    return duration\n",
        "\n",
        "\n",
        "def preprocess_highlights(highlights_dict, video_path, init_end_offset_sec=0.1, ratio_clips_maintain=1.):\n",
        "    # Preprocess to reduce duration and modify times.\n",
        "    init_end_offset_sec = max([init_end_offset_sec, 0.1])\n",
        "    duration = get_video_length(video_path)\n",
        "    idx = 0\n",
        "    for idx in range(len(highlights_dict)):\n",
        "        start = highlights_dict[idx][\"start\"]\n",
        "        end = highlights_dict[idx][\"end\"]\n",
        "        if time_to_seconds(start) > duration:\n",
        "            break\n",
        "        highlights_dict[idx][\"start_time\"] = max([time_to_seconds(start) - init_end_offset_sec, 0])\n",
        "        highlights_dict[idx][\"end_time\"] = min([time_to_seconds(end) + init_end_offset_sec, duration - 0.5])\n",
        "    highlights_dict = highlights_dict[:idx]\n",
        "    if ratio_clips_maintain < 1.:\n",
        "        highlights_dict = importance_conditioned_sampling(highlights_dict, ratio_clips_maintain)\n",
        "    highlights_dict = merge_overlapping_highlights(highlights_dict)\n",
        "    return highlights_dict\n",
        "\n",
        "\n",
        "def probe_video(video_file):\n",
        "    \"\"\"Use ffprobe to get video metadata.\"\"\"\n",
        "    cmd = ['ffprobe', '-v', 'error', '-select_streams', 'v:0', '-show_entries', 'stream=width,height', '-of', 'json', video_file]\n",
        "    result = subprocess.run(cmd, stdout=subprocess.PIPE, stderr=subprocess.PIPE)\n",
        "    return json.loads(result.stdout)\n",
        "\n",
        "\n",
        "def create_highlights_video(highlights_dict, video_path, output_path):\n",
        "    temp_dir = tempfile.TemporaryDirectory()\n",
        "    temp_dir_name = temp_dir.name\n",
        "\n",
        "    video_info = probe_video(video_path)\n",
        "    width = int(video_info['streams'][0]['width'])\n",
        "    height = int(video_info['streams'][0]['height'])\n",
        "    fontsize = int(height * 0.05)\n",
        "\n",
        "    concat_file_content = \"\"\n",
        "    for i, highlight in enumerate(highlights_dict):\n",
        "        start_time = highlight['start_time']\n",
        "        end_time = highlight['end_time']\n",
        "        content = highlight.get('content', \"\")\n",
        "\n",
        "        temp_file_path = os.path.join(temp_dir_name, f'clip_{i}.mp4')\n",
        "\n",
        "        video = ffmpeg.input(video_path, ss=start_time, to=end_time).video.filter(\n",
        "            'drawtext', text=content, fontsize=fontsize,\n",
        "            fontcolor='white', x='(w-text_w)/2', y='h-(text_h*2)', borderw='2',\n",
        "            bordercolor='black', shadowcolor='black', shadowx='2', shadowy='2')\n",
        "        audio = ffmpeg.input(video_path, ss=start_time, to=end_time).audio\n",
        "\n",
        "        ffmpeg.output(video, audio, temp_file_path, vcodec='libx264', acodec='aac').run()\n",
        "\n",
        "        concat_file_content += f\"file '{temp_file_path}'\\n\"\n",
        "\n",
        "    concat_list_path = os.path.join(temp_dir_name, 'concat_list.txt')\n",
        "    with open(concat_list_path, 'w') as f:\n",
        "        f.write(concat_file_content)\n",
        "\n",
        "    ffmpeg.input(concat_list_path, format='concat', safe=0).output(output_path, c='copy').run()\n",
        "\n",
        "    temp_dir.cleanup()"
      ],
      "metadata": {
        "execution": {
          "iopub.status.busy": "2024-10-21T15:20:39.211573Z",
          "iopub.execute_input": "2024-10-21T15:20:39.212052Z",
          "iopub.status.idle": "2024-10-21T15:20:39.245675Z",
          "shell.execute_reply.started": "2024-10-21T15:20:39.212000Z",
          "shell.execute_reply": "2024-10-21T15:20:39.244191Z"
        },
        "trusted": true,
        "id": "PNDzjdNQvtDL"
      },
      "execution_count": null,
      "outputs": []
    },
    {
      "cell_type": "code",
      "source": [
        "# Upload the video\n",
        "path_to_video_file = \"/kaggle/input/videos-gemini-highlights/nba.mp4\"\n",
        "video_file = genai.upload_file(path=path_to_video_file)\n",
        "\n",
        "while video_file.state.name == 'PROCESSING':\n",
        "    print('Waiting for video to be processed.')\n",
        "    time.sleep(2)\n",
        "    video_file = genai.get_file(video_file.name)\n",
        "print(f'File processing complete: {video_file.uri}')"
      ],
      "metadata": {
        "execution": {
          "iopub.status.busy": "2024-10-21T14:13:02.285449Z",
          "iopub.execute_input": "2024-10-21T14:13:02.285918Z",
          "iopub.status.idle": "2024-10-21T14:13:54.995622Z",
          "shell.execute_reply.started": "2024-10-21T14:13:02.285874Z",
          "shell.execute_reply": "2024-10-21T14:13:54.994084Z"
        },
        "trusted": true,
        "id": "9CZPLpQOvtDL",
        "outputId": "26651401-11f7-4f71-9a31-2c3d4949b6e6"
      },
      "execution_count": null,
      "outputs": [
        {
          "name": "stdout",
          "text": "Waiting for video to be processed.\nWaiting for video to be processed.\nWaiting for video to be processed.\nWaiting for video to be processed.\nWaiting for video to be processed.\nWaiting for video to be processed.\nWaiting for video to be processed.\nWaiting for video to be processed.\nWaiting for video to be processed.\nWaiting for video to be processed.\nWaiting for video to be processed.\nWaiting for video to be processed.\nWaiting for video to be processed.\nWaiting for video to be processed.\nWaiting for video to be processed.\nWaiting for video to be processed.\nWaiting for video to be processed.\nWaiting for video to be processed.\nWaiting for video to be processed.\nWaiting for video to be processed.\nWaiting for video to be processed.\nWaiting for video to be processed.\nFile processing complete: https://generativelanguage.googleapis.com/v1beta/files/f6h2s4igu6a7\n",
          "output_type": "stream"
        }
      ]
    },
    {
      "cell_type": "code",
      "source": [
        "# Cache the video for further questioning\n",
        "system_instruction = \"You are an expert analyzer, and your job is to answer the user's query based on the file you have access to. Answer with the proper language for the given context and only with timestamps information.\"\n",
        "cache = caching.CachedContent.create(\n",
        "    model='gemini-1.5-pro-002',\n",
        "    display_name='video',\n",
        "    system_instruction=(\n",
        "        system_instruction\n",
        "    ),\n",
        "    contents=[video_file],\n",
        "    ttl=datetime.timedelta(minutes=10)\n",
        ")"
      ],
      "metadata": {
        "execution": {
          "iopub.status.busy": "2024-10-21T14:20:40.492115Z",
          "iopub.execute_input": "2024-10-21T14:20:40.492640Z",
          "iopub.status.idle": "2024-10-21T14:21:13.683962Z",
          "shell.execute_reply.started": "2024-10-21T14:20:40.492591Z",
          "shell.execute_reply": "2024-10-21T14:21:13.682502Z"
        },
        "trusted": true,
        "id": "E5sIQLYzvtDL"
      },
      "execution_count": null,
      "outputs": []
    },
    {
      "cell_type": "code",
      "source": [
        "# Create a model from the cache data\n",
        "config = GenerationConfig(max_output_tokens=4098, temperature=0.3, response_mime_type=\"application/json\")\n",
        "model = genai.GenerativeModel.from_cached_content(\n",
        "    cached_content=cache,\n",
        "    generation_config=config\n",
        ")\n",
        "chat = model.start_chat()"
      ],
      "metadata": {
        "execution": {
          "iopub.status.busy": "2024-10-21T14:21:17.573659Z",
          "iopub.execute_input": "2024-10-21T14:21:17.574167Z",
          "iopub.status.idle": "2024-10-21T14:21:17.581935Z",
          "shell.execute_reply.started": "2024-10-21T14:21:17.574113Z",
          "shell.execute_reply": "2024-10-21T14:21:17.580358Z"
        },
        "trusted": true,
        "id": "0jNWrreGvtDM"
      },
      "execution_count": null,
      "outputs": []
    },
    {
      "cell_type": "code",
      "source": [
        "# Standard prompt for the agent to create highlights\n",
        "user_prompt = \"\"\"\n",
        "I want to get a top-10 short moments highlights. Equally distributed in time (not just the first X minutes).\n",
        "Provide a list of JSONs with:\n",
        "    - Each timestep of the highlight with \"start\" and \"end\" in MM:SS format.\n",
        "    - What happens in a short sentence in \"content\".\n",
        "    - The importance in \"importance\" of this highlight [0-1] in the context of the full context. A number between 0 and 1 that indicates how important is this highlight to understand the whole context.\n",
        "Provide only those given keys: start, end, content and importance. Nothing else or the JSON will be broken.\n",
        "I am looking for the most important ones from the whole video, so don't write a lot, just like a top-10 or so (only \"importance\" > 0.7). These are the top-10 highlights, equally distributed in time. Not a summary.\n",
        "For example,\n",
        "[\n",
        "    {\n",
        "        \"start\": 0:55,\n",
        "        \"end\": 1:10,\n",
        "        \"content\": \"This is what happens in a short sentence.\",\n",
        "        \"importance\": 0.95\n",
        "    },\n",
        "    {\n",
        "        \"start\": 41:50,\n",
        "        \"end\": 42:15,\n",
        "        \"content\": \"This is what happens in a short sentence.\",\n",
        "        \"importance\": 0.71\n",
        "    },\n",
        "    ...\n",
        "]\n",
        "\"\"\""
      ],
      "metadata": {
        "execution": {
          "iopub.status.busy": "2024-10-21T14:21:19.932239Z",
          "iopub.execute_input": "2024-10-21T14:21:19.932728Z",
          "iopub.status.idle": "2024-10-21T14:21:19.940277Z",
          "shell.execute_reply.started": "2024-10-21T14:21:19.932685Z",
          "shell.execute_reply": "2024-10-21T14:21:19.938620Z"
        },
        "trusted": true,
        "id": "vn9GskkdvtDM"
      },
      "execution_count": null,
      "outputs": []
    },
    {
      "cell_type": "code",
      "source": [
        "# Send the query\n",
        "response = chat.send_message(user_prompt)\n",
        "highlights_dict = json.loads(response.text)\n",
        "\n",
        "# If the cell above takes too much time to process, you can use this output from a previous execution (for the nba.mp4)\n",
        "# highlights_dict = [{\"start\": \"00:00\", \"end\": \"00:02\", \"content\": \"Festus Ezeli comes off the bench for his first start of the entire postseason.\", \"importance\": 0.8}, {\"start\": \"00:10\", \"end\": \"00:24\", \"content\": \"The game starts with no score.\", \"importance\": 0.7}, {\"start\": \"01:02\", \"end\": \"01:05\", \"content\": \"Thompson lays the ball in.\", \"importance\": 0.75}, {\"start\": \"01:56\", \"end\": \"02:00\", \"content\": \"Green scores.\", \"importance\": 0.7}, {\"start\": \"02:48\", \"end\": \"02:50\", \"content\": \"Barnes shoots and scores, bringing the Warriors into the lead.\", \"importance\": 0.9}, {\"start\": \"03:20\", \"end\": \"03:22\", \"content\": \"Green shoots for three.\", \"importance\": 0.8}, {\"start\": \"05:56\", \"end\": \"06:04\", \"content\": \"Irving makes a basket.\", \"importance\": 0.7}, {\"start\": \"07:19\", \"end\": \"07:22\", \"content\": \"Smith drives to the basket.\", \"importance\": 0.7}, {\"start\": \"08:27\", \"end\": \"08:29\", \"content\": \"Steve Kerr huddles with his team.\", \"importance\": 0.7}, {\"start\": \"10:49\", \"end\": \"10:51\", \"content\": \"James dunks the ball.\", \"importance\": 0.75}]"
      ],
      "metadata": {
        "execution": {
          "iopub.status.busy": "2024-10-21T14:41:20.133075Z",
          "iopub.execute_input": "2024-10-21T14:41:20.134586Z",
          "iopub.status.idle": "2024-10-21T14:41:20.144185Z",
          "shell.execute_reply.started": "2024-10-21T14:41:20.134526Z",
          "shell.execute_reply": "2024-10-21T14:41:20.142758Z"
        },
        "trusted": true,
        "id": "Nih-HQx6vtDM"
      },
      "execution_count": null,
      "outputs": []
    },
    {
      "cell_type": "code",
      "source": [
        "\n",
        "# Preprocess\n",
        "path_to_video_file = \"/kaggle/input/videos-gemini-highlights/nba.mp4\"\n",
        "# In videos like sports, a higher \"init_end_offset_sec\" might provide a more useful resulting video. In other videos like conferences, a lower value makes more sense.\n",
        "# If you want to keep the resulting video shorter (and thus take less time to render), set \"ratio_clips_maintain\" to 0.6 or 0.4 to only keep a percentage of the most important clips.\n",
        "highlights_dict_preproc = preprocess_highlights(highlights_dict.copy(), path_to_video_file, init_end_offset_sec=1.5, ratio_clips_maintain=1.)"
      ],
      "metadata": {
        "execution": {
          "iopub.status.busy": "2024-10-21T15:21:17.566362Z",
          "iopub.execute_input": "2024-10-21T15:21:17.566884Z",
          "iopub.status.idle": "2024-10-21T15:21:18.113168Z",
          "shell.execute_reply.started": "2024-10-21T15:21:17.566836Z",
          "shell.execute_reply": "2024-10-21T15:21:18.112002Z"
        },
        "trusted": true,
        "id": "BeOuF41fvtDM"
      },
      "execution_count": null,
      "outputs": []
    },
    {
      "cell_type": "code",
      "source": [
        "# Finally, create the video\n",
        "output_video_path = \"output.mp4\"\n",
        "highlights_video = create_highlights_video(highlights_dict_preproc, path_to_video_file, output_video_path)"
      ],
      "metadata": {
        "execution": {
          "iopub.status.busy": "2024-10-21T15:23:11.757117Z",
          "iopub.execute_input": "2024-10-21T15:23:11.757647Z",
          "iopub.status.idle": "2024-10-21T15:24:24.255882Z",
          "shell.execute_reply.started": "2024-10-21T15:23:11.757595Z",
          "shell.execute_reply": "2024-10-21T15:24:24.254508Z"
        },
        "collapsed": true,
        "jupyter": {
          "outputs_hidden": true
        },
        "trusted": true,
        "id": "zyo_aU28vtDM",
        "outputId": "4c98df71-79ad-4dbe-be49-365c36b99e41"
      },
      "execution_count": null,
      "outputs": [
        {
          "name": "stderr",
          "text": "ffmpeg version 4.2.7-0ubuntu0.1 Copyright (c) 2000-2022 the FFmpeg developers\n  built with gcc 9 (Ubuntu 9.4.0-1ubuntu1~20.04.1)\n  configuration: --prefix=/usr --extra-version=0ubuntu0.1 --toolchain=hardened --libdir=/usr/lib/x86_64-linux-gnu --incdir=/usr/include/x86_64-linux-gnu --arch=amd64 --enable-gpl --disable-stripping --enable-avresample --disable-filter=resample --enable-avisynth --enable-gnutls --enable-ladspa --enable-libaom --enable-libass --enable-libbluray --enable-libbs2b --enable-libcaca --enable-libcdio --enable-libcodec2 --enable-libflite --enable-libfontconfig --enable-libfreetype --enable-libfribidi --enable-libgme --enable-libgsm --enable-libjack --enable-libmp3lame --enable-libmysofa --enable-libopenjpeg --enable-libopenmpt --enable-libopus --enable-libpulse --enable-librsvg --enable-librubberband --enable-libshine --enable-libsnappy --enable-libsoxr --enable-libspeex --enable-libssh --enable-libtheora --enable-libtwolame --enable-libvidstab --enable-libvorbis --enable-libvpx --enable-libwavpack --enable-libwebp --enable-libx265 --enable-libxml2 --enable-libxvid --enable-libzmq --enable-libzvbi --enable-lv2 --enable-omx --enable-openal --enable-opencl --enable-opengl --enable-sdl2 --enable-libdc1394 --enable-libdrm --enable-libiec61883 --enable-nvenc --enable-chromaprint --enable-frei0r --enable-libx264 --enable-shared\n  libavutil      56. 31.100 / 56. 31.100\n  libavcodec     58. 54.100 / 58. 54.100\n  libavformat    58. 29.100 / 58. 29.100\n  libavdevice    58.  8.100 / 58.  8.100\n  libavfilter     7. 57.100 /  7. 57.100\n  libavresample   4.  0.  0 /  4.  0.  0\n  libswscale      5.  5.100 /  5.  5.100\n  libswresample   3.  5.100 /  3.  5.100\n  libpostproc    55.  5.100 / 55.  5.100\nInput #0, mov,mp4,m4a,3gp,3g2,mj2, from '/kaggle/input/videos-gemini-highlights/nba.mp4':\n  Metadata:\n    major_brand     : isom\n    minor_version   : 512\n    compatible_brands: isomiso2avc1mp41\n    encoder         : Lavf59.16.100\n  Duration: 00:43:35.43, start: 0.000000, bitrate: 1217 kb/s\n    Stream #0:0(und): Video: h264 (Main) (avc1 / 0x31637661), yuv420p(tv, bt709), 1280x720 [SAR 1:1 DAR 16:9], 1081 kb/s, 30 fps, 30 tbr, 15360 tbn, 60 tbc (default)\n    Metadata:\n      handler_name    : ISO Media file produced by Google Inc.\n    Stream #0:1(und): Audio: aac (LC) (mp4a / 0x6134706D), 44100 Hz, stereo, fltp, 128 kb/s (default)\n    Metadata:\n      handler_name    : ISO Media file produced by Google Inc.\n[Parsed_drawtext_0 @ 0x56810813fdc0] Using \"/opt/conda/fonts/DejaVuSans.ttf\"\nStream mapping:\n  Stream #0:0 (h264) -> drawtext (graph 0)\n  drawtext (graph 0) -> Stream #0:0 (libx264)\n  Stream #0:1 -> #0:1 (aac (native) -> aac (native))\nPress [q] to stop, [?] for help\n[Parsed_drawtext_0 @ 0x56810844b180] Using \"/opt/conda/fonts/DejaVuSans.ttf\"\n[libx264 @ 0x568108216340] using SAR=1/1\n[libx264 @ 0x568108216340] using cpu capabilities: MMX2 SSE2Fast SSSE3 SSE4.2 AVX FMA3 BMI2 AVX2\n[libx264 @ 0x568108216340] profile High, level 3.1\n[libx264 @ 0x568108216340] 264 - core 155 r2917 0a84d98 - H.264/MPEG-4 AVC codec - Copyleft 2003-2018 - http://www.videolan.org/x264.html - options: cabac=1 ref=3 deblock=1:0:0 analyse=0x3:0x113 me=hex subme=7 psy=1 psy_rd=1.00:0.00 mixed_ref=1 me_range=16 chroma_me=1 trellis=1 8x8dct=1 cqm=0 deadzone=21,11 fast_pskip=1 chroma_qp_offset=-2 threads=6 lookahead_threads=1 sliced_threads=0 nr=0 decimate=1 interlaced=0 bluray_compat=0 constrained_intra=0 bframes=3 b_pyramid=2 b_adapt=1 b_bias=0 direct=1 weightb=1 open_gop=0 weightp=2 keyint=250 keyint_min=25 scenecut=40 intra_refresh=0 rc_lookahead=40 rc=crf mbtree=1 crf=23.0 qcomp=0.60 qpmin=0 qpmax=69 qpstep=4 ip_ratio=1.40 aq=1:1.00\nOutput #0, mp4, to '/tmp/tmphqgi0h1v/clip_0.mp4':\n  Metadata:\n    major_brand     : isom\n    minor_version   : 512\n    compatible_brands: isomiso2avc1mp41\n    encoder         : Lavf58.29.100\n    Stream #0:0: Video: h264 (libx264) (avc1 / 0x31637661), yuv420p, 1280x720 [SAR 1:1 DAR 16:9], q=-1--1, 30 fps, 15360 tbn, 30 tbc (default)\n    Metadata:\n      encoder         : Lavc58.54.100 libx264\n    Side data:\n      cpb: bitrate max/min/avg: 0/0/0 buffer size: 0 vbv_delay: -1\n    Stream #0:1(und): Audio: aac (LC) (mp4a / 0x6134706D), 44100 Hz, stereo, fltp, 128 kb/s (default)\n    Metadata:\n      handler_name    : ISO Media file produced by Google Inc.\n      encoder         : Lavc58.54.100 aac\nframe=  105 fps= 34 q=-1.0 Lsize=     590kB time=00:00:03.50 bitrate=1377.8kbits/s speed=1.13x    \nvideo:528kB audio:57kB subtitle:0kB other streams:0kB global headers:0kB muxing overhead: 0.867251%\n[libx264 @ 0x568108216340] frame I:2     Avg QP:21.88  size: 77356\n[libx264 @ 0x568108216340] frame P:44    Avg QP:22.09  size:  6586\n[libx264 @ 0x568108216340] frame B:59    Avg QP:26.55  size:  1615\n[libx264 @ 0x568108216340] consecutive B-frames:  2.9% 64.8%  5.7% 26.7%\n[libx264 @ 0x568108216340] mb I  I16..4: 17.2% 31.5% 51.3%\n[libx264 @ 0x568108216340] mb P  I16..4:  2.5%  1.7%  0.1%  P16..4: 40.8%  7.2%  2.8%  0.0%  0.0%    skip:45.0%\n[libx264 @ 0x568108216340] mb B  I16..4:  0.1%  0.1%  0.0%  B16..8: 27.4%  1.3%  0.2%  direct: 0.3%  skip:70.6%  L0:40.0% L1:57.1% BI: 3.0%\n[libx264 @ 0x568108216340] 8x8 transform intra:35.6% inter:71.9%\n[libx264 @ 0x568108216340] coded y,uvDC,uvAC intra: 40.8% 49.0% 24.4% inter: 3.5% 3.7% 0.2%\n[libx264 @ 0x568108216340] i16 v,h,dc,p: 10% 59%  8% 23%\n[libx264 @ 0x568108216340] i8 v,h,dc,ddl,ddr,vr,hd,vl,hu: 19% 45% 21%  2%  2%  3%  3%  2%  4%\n[libx264 @ 0x568108216340] i4 v,h,dc,ddl,ddr,vr,hd,vl,hu: 26% 23%  9%  6%  7%  8%  7%  7%  7%\n[libx264 @ 0x568108216340] i8c dc,h,v,p: 54% 25% 15%  7%\n[libx264 @ 0x568108216340] Weighted P-Frames: Y:0.0% UV:0.0%\n[libx264 @ 0x568108216340] ref P L0: 73.8% 11.1% 11.5%  3.6%\n[libx264 @ 0x568108216340] ref B L0: 91.7%  7.6%  0.8%\n[libx264 @ 0x568108216340] ref B L1: 99.4%  0.6%\n[libx264 @ 0x568108216340] kb/s:1233.81\n[aac @ 0x56810813e240] Qavg: 2047.277\nffmpeg version 4.2.7-0ubuntu0.1 Copyright (c) 2000-2022 the FFmpeg developers\n  built with gcc 9 (Ubuntu 9.4.0-1ubuntu1~20.04.1)\n  configuration: --prefix=/usr --extra-version=0ubuntu0.1 --toolchain=hardened --libdir=/usr/lib/x86_64-linux-gnu --incdir=/usr/include/x86_64-linux-gnu --arch=amd64 --enable-gpl --disable-stripping --enable-avresample --disable-filter=resample --enable-avisynth --enable-gnutls --enable-ladspa --enable-libaom --enable-libass --enable-libbluray --enable-libbs2b --enable-libcaca --enable-libcdio --enable-libcodec2 --enable-libflite --enable-libfontconfig --enable-libfreetype --enable-libfribidi --enable-libgme --enable-libgsm --enable-libjack --enable-libmp3lame --enable-libmysofa --enable-libopenjpeg --enable-libopenmpt --enable-libopus --enable-libpulse --enable-librsvg --enable-librubberband --enable-libshine --enable-libsnappy --enable-libsoxr --enable-libspeex --enable-libssh --enable-libtheora --enable-libtwolame --enable-libvidstab --enable-libvorbis --enable-libvpx --enable-libwavpack --enable-libwebp --enable-libx265 --enable-libxml2 --enable-libxvid --enable-libzmq --enable-libzvbi --enable-lv2 --enable-omx --enable-openal --enable-opencl --enable-opengl --enable-sdl2 --enable-libdc1394 --enable-libdrm --enable-libiec61883 --enable-nvenc --enable-chromaprint --enable-frei0r --enable-libx264 --enable-shared\n  libavutil      56. 31.100 / 56. 31.100\n  libavcodec     58. 54.100 / 58. 54.100\n  libavformat    58. 29.100 / 58. 29.100\n  libavdevice    58.  8.100 / 58.  8.100\n  libavfilter     7. 57.100 /  7. 57.100\n  libavresample   4.  0.  0 /  4.  0.  0\n  libswscale      5.  5.100 /  5.  5.100\n  libswresample   3.  5.100 /  3.  5.100\n  libpostproc    55.  5.100 / 55.  5.100\nInput #0, mov,mp4,m4a,3gp,3g2,mj2, from '/kaggle/input/videos-gemini-highlights/nba.mp4':\n  Metadata:\n    major_brand     : isom\n    minor_version   : 512\n    compatible_brands: isomiso2avc1mp41\n    encoder         : Lavf59.16.100\n  Duration: 00:43:35.43, start: 0.000000, bitrate: 1217 kb/s\n    Stream #0:0(und): Video: h264 (Main) (avc1 / 0x31637661), yuv420p(tv, bt709), 1280x720 [SAR 1:1 DAR 16:9], 1081 kb/s, 30 fps, 30 tbr, 15360 tbn, 60 tbc (default)\n    Metadata:\n      handler_name    : ISO Media file produced by Google Inc.\n    Stream #0:1(und): Audio: aac (LC) (mp4a / 0x6134706D), 44100 Hz, stereo, fltp, 128 kb/s (default)\n    Metadata:\n      handler_name    : ISO Media file produced by Google Inc.\n[Parsed_drawtext_0 @ 0x59b74bf94ec0] Using \"/opt/conda/fonts/DejaVuSans.ttf\"\nStream mapping:\n  Stream #0:0 (h264) -> drawtext (graph 0)\n  drawtext (graph 0) -> Stream #0:0 (libx264)\n  Stream #0:1 -> #0:1 (aac (native) -> aac (native))\nPress [q] to stop, [?] for help\n[Parsed_drawtext_0 @ 0x59b74c251540] Using \"/opt/conda/fonts/DejaVuSans.ttf\"\n[libx264 @ 0x59b74c063ac0] using SAR=1/1\n[libx264 @ 0x59b74c063ac0] using cpu capabilities: MMX2 SSE2Fast SSSE3 SSE4.2 AVX FMA3 BMI2 AVX2\n[libx264 @ 0x59b74c063ac0] profile High, level 3.1\n[libx264 @ 0x59b74c063ac0] 264 - core 155 r2917 0a84d98 - H.264/MPEG-4 AVC codec - Copyleft 2003-2018 - http://www.videolan.org/x264.html - options: cabac=1 ref=3 deblock=1:0:0 analyse=0x3:0x113 me=hex subme=7 psy=1 psy_rd=1.00:0.00 mixed_ref=1 me_range=16 chroma_me=1 trellis=1 8x8dct=1 cqm=0 deadzone=21,11 fast_pskip=1 chroma_qp_offset=-2 threads=6 lookahead_threads=1 sliced_threads=0 nr=0 decimate=1 interlaced=0 bluray_compat=0 constrained_intra=0 bframes=3 b_pyramid=2 b_adapt=1 b_bias=0 direct=1 weightb=1 open_gop=0 weightp=2 keyint=250 keyint_min=25 scenecut=40 intra_refresh=0 rc_lookahead=40 rc=crf mbtree=1 crf=23.0 qcomp=0.60 qpmin=0 qpmax=69 qpstep=4 ip_ratio=1.40 aq=1:1.00\nOutput #0, mp4, to '/tmp/tmphqgi0h1v/clip_1.mp4':\n  Metadata:\n    major_brand     : isom\n    minor_version   : 512\n    compatible_brands: isomiso2avc1mp41\n    encoder         : Lavf58.29.100\n    Stream #0:0: Video: h264 (libx264) (avc1 / 0x31637661), yuv420p, 1280x720 [SAR 1:1 DAR 16:9], q=-1--1, 30 fps, 15360 tbn, 30 tbc (default)\n    Metadata:\n      encoder         : Lavc58.54.100 libx264\n    Side data:\n      cpb: bitrate max/min/avg: 0/0/0 buffer size: 0 vbv_delay: -1\n    Stream #0:1(und): Audio: aac (LC) (mp4a / 0x6134706D), 44100 Hz, stereo, fltp, 128 kb/s (default)\n    Metadata:\n      handler_name    : ISO Media file produced by Google Inc.\n      encoder         : Lavc58.54.100 aac\nframe=  510 fps= 28 q=-1.0 Lsize=    5550kB time=00:00:17.02 bitrate=2671.3kbits/s speed=0.923x    \nvideo:5263kB audio:267kB subtitle:0kB other streams:0kB global headers:0kB muxing overhead: 0.350394%\n[libx264 @ 0x59b74c063ac0] frame I:3     Avg QP:22.05  size:101154\n[libx264 @ 0x59b74c063ac0] frame P:178   Avg QP:24.71  size: 20731\n[libx264 @ 0x59b74c063ac0] frame B:329   Avg QP:30.44  size:  4241\n[libx264 @ 0x59b74c063ac0] consecutive B-frames:  1.0% 38.0%  2.9% 58.0%\n[libx264 @ 0x59b74c063ac0] mb I  I16..4:  6.1% 52.3% 41.5%\n[libx264 @ 0x59b74c063ac0] mb P  I16..4:  1.7%  3.1%  1.9%  P16..4: 43.6% 20.5%  9.2%  0.0%  0.0%    skip:20.0%\n[libx264 @ 0x59b74c063ac0] mb B  I16..4:  0.1%  0.2%  0.1%  B16..8: 44.7%  5.3%  1.0%  direct: 0.9%  skip:47.6%  L0:39.4% L1:49.3% BI:11.3%\n[libx264 @ 0x59b74c063ac0] 8x8 transform intra:46.6% inter:50.2%\n[libx264 @ 0x59b74c063ac0] coded y,uvDC,uvAC intra: 59.5% 71.0% 35.9% inter: 10.4% 11.1% 0.8%\n[libx264 @ 0x59b74c063ac0] i16 v,h,dc,p: 14% 53% 10% 23%\n[libx264 @ 0x59b74c063ac0] i8 v,h,dc,ddl,ddr,vr,hd,vl,hu: 20% 32% 18%  4%  4%  5%  5%  5%  7%\n[libx264 @ 0x59b74c063ac0] i4 v,h,dc,ddl,ddr,vr,hd,vl,hu: 25% 26% 16%  5%  6%  7%  6%  6%  5%\n[libx264 @ 0x59b74c063ac0] i8c dc,h,v,p: 38% 34% 17% 11%\n[libx264 @ 0x59b74c063ac0] Weighted P-Frames: Y:1.7% UV:1.7%\n[libx264 @ 0x59b74c063ac0] ref P L0: 72.9% 17.4%  7.7%  1.8%  0.1%\n[libx264 @ 0x59b74c063ac0] ref B L0: 95.7%  3.9%  0.4%\n[libx264 @ 0x59b74c063ac0] ref B L1: 99.5%  0.5%\n[libx264 @ 0x59b74c063ac0] kb/s:2535.98\n[aac @ 0x59b74c069640] Qavg: 276.245\nffmpeg version 4.2.7-0ubuntu0.1 Copyright (c) 2000-2022 the FFmpeg developers\n  built with gcc 9 (Ubuntu 9.4.0-1ubuntu1~20.04.1)\n  configuration: --prefix=/usr --extra-version=0ubuntu0.1 --toolchain=hardened --libdir=/usr/lib/x86_64-linux-gnu --incdir=/usr/include/x86_64-linux-gnu --arch=amd64 --enable-gpl --disable-stripping --enable-avresample --disable-filter=resample --enable-avisynth --enable-gnutls --enable-ladspa --enable-libaom --enable-libass --enable-libbluray --enable-libbs2b --enable-libcaca --enable-libcdio --enable-libcodec2 --enable-libflite --enable-libfontconfig --enable-libfreetype --enable-libfribidi --enable-libgme --enable-libgsm --enable-libjack --enable-libmp3lame --enable-libmysofa --enable-libopenjpeg --enable-libopenmpt --enable-libopus --enable-libpulse --enable-librsvg --enable-librubberband --enable-libshine --enable-libsnappy --enable-libsoxr --enable-libspeex --enable-libssh --enable-libtheora --enable-libtwolame --enable-libvidstab --enable-libvorbis --enable-libvpx --enable-libwavpack --enable-libwebp --enable-libx265 --enable-libxml2 --enable-libxvid --enable-libzmq --enable-libzvbi --enable-lv2 --enable-omx --enable-openal --enable-opencl --enable-opengl --enable-sdl2 --enable-libdc1394 --enable-libdrm --enable-libiec61883 --enable-nvenc --enable-chromaprint --enable-frei0r --enable-libx264 --enable-shared\n  libavutil      56. 31.100 / 56. 31.100\n  libavcodec     58. 54.100 / 58. 54.100\n  libavformat    58. 29.100 / 58. 29.100\n  libavdevice    58.  8.100 / 58.  8.100\n  libavfilter     7. 57.100 /  7. 57.100\n  libavresample   4.  0.  0 /  4.  0.  0\n  libswscale      5.  5.100 /  5.  5.100\n  libswresample   3.  5.100 /  3.  5.100\n  libpostproc    55.  5.100 / 55.  5.100\nInput #0, mov,mp4,m4a,3gp,3g2,mj2, from '/kaggle/input/videos-gemini-highlights/nba.mp4':\n  Metadata:\n    major_brand     : isom\n    minor_version   : 512\n    compatible_brands: isomiso2avc1mp41\n    encoder         : Lavf59.16.100\n  Duration: 00:43:35.43, start: 0.000000, bitrate: 1217 kb/s\n    Stream #0:0(und): Video: h264 (Main) (avc1 / 0x31637661), yuv420p(tv, bt709), 1280x720 [SAR 1:1 DAR 16:9], 1081 kb/s, 30 fps, 30 tbr, 15360 tbn, 60 tbc (default)\n    Metadata:\n      handler_name    : ISO Media file produced by Google Inc.\n    Stream #0:1(und): Audio: aac (LC) (mp4a / 0x6134706D), 44100 Hz, stereo, fltp, 128 kb/s (default)\n    Metadata:\n      handler_name    : ISO Media file produced by Google Inc.\n[Parsed_drawtext_0 @ 0x5bb7d7758ec0] Using \"/opt/conda/fonts/DejaVuSans.ttf\"\nStream mapping:\n  Stream #0:0 (h264) -> drawtext (graph 0)\n  drawtext (graph 0) -> Stream #0:0 (libx264)\n  Stream #0:1 -> #0:1 (aac (native) -> aac (native))\nPress [q] to stop, [?] for help\n[Parsed_drawtext_0 @ 0x5bb7d7a15640] Using \"/opt/conda/fonts/DejaVuSans.ttf\"\n[libx264 @ 0x5bb7d7757ec0] using SAR=1/1\n[libx264 @ 0x5bb7d7757ec0] using cpu capabilities: MMX2 SSE2Fast SSSE3 SSE4.2 AVX FMA3 BMI2 AVX2\n[libx264 @ 0x5bb7d7757ec0] profile High, level 3.1\n[libx264 @ 0x5bb7d7757ec0] 264 - core 155 r2917 0a84d98 - H.264/MPEG-4 AVC codec - Copyleft 2003-2018 - http://www.videolan.org/x264.html - options: cabac=1 ref=3 deblock=1:0:0 analyse=0x3:0x113 me=hex subme=7 psy=1 psy_rd=1.00:0.00 mixed_ref=1 me_range=16 chroma_me=1 trellis=1 8x8dct=1 cqm=0 deadzone=21,11 fast_pskip=1 chroma_qp_offset=-2 threads=6 lookahead_threads=1 sliced_threads=0 nr=0 decimate=1 interlaced=0 bluray_compat=0 constrained_intra=0 bframes=3 b_pyramid=2 b_adapt=1 b_bias=0 direct=1 weightb=1 open_gop=0 weightp=2 keyint=250 keyint_min=25 scenecut=40 intra_refresh=0 rc_lookahead=40 rc=crf mbtree=1 crf=23.0 qcomp=0.60 qpmin=0 qpmax=69 qpstep=4 ip_ratio=1.40 aq=1:1.00\nOutput #0, mp4, to '/tmp/tmphqgi0h1v/clip_2.mp4':\n  Metadata:\n    major_brand     : isom\n    minor_version   : 512\n    compatible_brands: isomiso2avc1mp41\n    encoder         : Lavf58.29.100\n    Stream #0:0: Video: h264 (libx264) (avc1 / 0x31637661), yuv420p, 1280x720 [SAR 1:1 DAR 16:9], q=-1--1, 30 fps, 15360 tbn, 30 tbc (default)\n    Metadata:\n      encoder         : Lavc58.54.100 libx264\n    Side data:\n      cpb: bitrate max/min/avg: 0/0/0 buffer size: 0 vbv_delay: -1\n    Stream #0:1(und): Audio: aac (LC) (mp4a / 0x6134706D), 44100 Hz, stereo, fltp, 128 kb/s (default)\n    Metadata:\n      handler_name    : ISO Media file produced by Google Inc.\n      encoder         : Lavc58.54.100 aac\nframe=  180 fps= 29 q=-1.0 Lsize=    1940kB time=00:00:06.01 bitrate=2642.7kbits/s speed=0.954x    \nvideo:1839kB audio:94kB subtitle:0kB other streams:0kB global headers:0kB muxing overhead: 0.399856%\n[libx264 @ 0x5bb7d7757ec0] frame I:1     Avg QP:24.70  size: 94512\n[libx264 @ 0x5bb7d7757ec0] frame P:64    Avg QP:24.54  size: 19698\n[libx264 @ 0x5bb7d7757ec0] frame B:115   Avg QP:30.25  size:  4582\n[libx264 @ 0x5bb7d7757ec0] consecutive B-frames:  0.6% 41.1%  5.0% 53.3%\n[libx264 @ 0x5bb7d7757ec0] mb I  I16..4:  5.7% 59.6% 34.8%\n[libx264 @ 0x5bb7d7757ec0] mb P  I16..4:  1.9%  3.4%  2.1%  P16..4: 42.2% 18.4%  8.3%  0.0%  0.0%    skip:23.7%\n[libx264 @ 0x5bb7d7757ec0] mb B  I16..4:  0.2%  0.3%  0.3%  B16..8: 43.5%  5.3%  1.1%  direct: 1.1%  skip:48.2%  L0:38.1% L1:53.5% BI: 8.4%\n[libx264 @ 0x5bb7d7757ec0] 8x8 transform intra:47.2% inter:53.4%\n[libx264 @ 0x5bb7d7757ec0] coded y,uvDC,uvAC intra: 55.9% 71.4% 36.0% inter: 9.9% 12.2% 1.2%\n[libx264 @ 0x5bb7d7757ec0] i16 v,h,dc,p: 17% 47% 13% 22%\n[libx264 @ 0x5bb7d7757ec0] i8 v,h,dc,ddl,ddr,vr,hd,vl,hu: 20% 30% 19%  4%  4%  5%  5%  5%  7%\n[libx264 @ 0x5bb7d7757ec0] i4 v,h,dc,ddl,ddr,vr,hd,vl,hu: 24% 23% 18%  5%  6%  7%  6%  5%  5%\n[libx264 @ 0x5bb7d7757ec0] i8c dc,h,v,p: 40% 30% 19% 11%\n[libx264 @ 0x5bb7d7757ec0] Weighted P-Frames: Y:3.1% UV:1.6%\n[libx264 @ 0x5bb7d7757ec0] ref P L0: 70.5% 18.4%  8.8%  2.1%  0.1%\n[libx264 @ 0x5bb7d7757ec0] ref B L0: 95.3%  4.1%  0.6%\n[libx264 @ 0x5bb7d7757ec0] ref B L1: 99.4%  0.6%\n[libx264 @ 0x5bb7d7757ec0] kb/s:2509.42\n[aac @ 0x5bb7d782c600] Qavg: 438.688\nffmpeg version 4.2.7-0ubuntu0.1 Copyright (c) 2000-2022 the FFmpeg developers\n  built with gcc 9 (Ubuntu 9.4.0-1ubuntu1~20.04.1)\n  configuration: --prefix=/usr --extra-version=0ubuntu0.1 --toolchain=hardened --libdir=/usr/lib/x86_64-linux-gnu --incdir=/usr/include/x86_64-linux-gnu --arch=amd64 --enable-gpl --disable-stripping --enable-avresample --disable-filter=resample --enable-avisynth --enable-gnutls --enable-ladspa --enable-libaom --enable-libass --enable-libbluray --enable-libbs2b --enable-libcaca --enable-libcdio --enable-libcodec2 --enable-libflite --enable-libfontconfig --enable-libfreetype --enable-libfribidi --enable-libgme --enable-libgsm --enable-libjack --enable-libmp3lame --enable-libmysofa --enable-libopenjpeg --enable-libopenmpt --enable-libopus --enable-libpulse --enable-librsvg --enable-librubberband --enable-libshine --enable-libsnappy --enable-libsoxr --enable-libspeex --enable-libssh --enable-libtheora --enable-libtwolame --enable-libvidstab --enable-libvorbis --enable-libvpx --enable-libwavpack --enable-libwebp --enable-libx265 --enable-libxml2 --enable-libxvid --enable-libzmq --enable-libzvbi --enable-lv2 --enable-omx --enable-openal --enable-opencl --enable-opengl --enable-sdl2 --enable-libdc1394 --enable-libdrm --enable-libiec61883 --enable-nvenc --enable-chromaprint --enable-frei0r --enable-libx264 --enable-shared\n  libavutil      56. 31.100 / 56. 31.100\n  libavcodec     58. 54.100 / 58. 54.100\n  libavformat    58. 29.100 / 58. 29.100\n  libavdevice    58.  8.100 / 58.  8.100\n  libavfilter     7. 57.100 /  7. 57.100\n  libavresample   4.  0.  0 /  4.  0.  0\n  libswscale      5.  5.100 /  5.  5.100\n  libswresample   3.  5.100 /  3.  5.100\n  libpostproc    55.  5.100 / 55.  5.100\nInput #0, mov,mp4,m4a,3gp,3g2,mj2, from '/kaggle/input/videos-gemini-highlights/nba.mp4':\n  Metadata:\n    major_brand     : isom\n    minor_version   : 512\n    compatible_brands: isomiso2avc1mp41\n    encoder         : Lavf59.16.100\n  Duration: 00:43:35.43, start: 0.000000, bitrate: 1217 kb/s\n    Stream #0:0(und): Video: h264 (Main) (avc1 / 0x31637661), yuv420p(tv, bt709), 1280x720 [SAR 1:1 DAR 16:9], 1081 kb/s, 30 fps, 30 tbr, 15360 tbn, 60 tbc (default)\n    Metadata:\n      handler_name    : ISO Media file produced by Google Inc.\n    Stream #0:1(und): Audio: aac (LC) (mp4a / 0x6134706D), 44100 Hz, stereo, fltp, 128 kb/s (default)\n    Metadata:\n      handler_name    : ISO Media file produced by Google Inc.\n[Parsed_drawtext_0 @ 0x5833b6825e00] Using \"/opt/conda/fonts/DejaVuSans.ttf\"\nStream mapping:\n  Stream #0:0 (h264) -> drawtext (graph 0)\n  drawtext (graph 0) -> Stream #0:0 (libx264)\n  Stream #0:1 -> #0:1 (aac (native) -> aac (native))\nPress [q] to stop, [?] for help\n[Parsed_drawtext_0 @ 0x5833b6ae2e80] Using \"/opt/conda/fonts/DejaVuSans.ttf\"\n[libx264 @ 0x5833b68f9b80] using SAR=1/1\n[libx264 @ 0x5833b68f9b80] using cpu capabilities: MMX2 SSE2Fast SSSE3 SSE4.2 AVX FMA3 BMI2 AVX2\n[libx264 @ 0x5833b68f9b80] profile High, level 3.1\n[libx264 @ 0x5833b68f9b80] 264 - core 155 r2917 0a84d98 - H.264/MPEG-4 AVC codec - Copyleft 2003-2018 - http://www.videolan.org/x264.html - options: cabac=1 ref=3 deblock=1:0:0 analyse=0x3:0x113 me=hex subme=7 psy=1 psy_rd=1.00:0.00 mixed_ref=1 me_range=16 chroma_me=1 trellis=1 8x8dct=1 cqm=0 deadzone=21,11 fast_pskip=1 chroma_qp_offset=-2 threads=6 lookahead_threads=1 sliced_threads=0 nr=0 decimate=1 interlaced=0 bluray_compat=0 constrained_intra=0 bframes=3 b_pyramid=2 b_adapt=1 b_bias=0 direct=1 weightb=1 open_gop=0 weightp=2 keyint=250 keyint_min=25 scenecut=40 intra_refresh=0 rc_lookahead=40 rc=crf mbtree=1 crf=23.0 qcomp=0.60 qpmin=0 qpmax=69 qpstep=4 ip_ratio=1.40 aq=1:1.00\nOutput #0, mp4, to '/tmp/tmphqgi0h1v/clip_3.mp4':\n  Metadata:\n    major_brand     : isom\n    minor_version   : 512\n    compatible_brands: isomiso2avc1mp41\n    encoder         : Lavf58.29.100\n    Stream #0:0: Video: h264 (libx264) (avc1 / 0x31637661), yuv420p, 1280x720 [SAR 1:1 DAR 16:9], q=-1--1, 30 fps, 15360 tbn, 30 tbc (default)\n    Metadata:\n      encoder         : Lavc58.54.100 libx264\n    Side data:\n      cpb: bitrate max/min/avg: 0/0/0 buffer size: 0 vbv_delay: -1\n    Stream #0:1(und): Audio: aac (LC) (mp4a / 0x6134706D), 44100 Hz, stereo, fltp, 128 kb/s (default)\n    Metadata:\n      handler_name    : ISO Media file produced by Google Inc.\n      encoder         : Lavc58.54.100 aac\nframe=  210 fps= 28 q=-1.0 Lsize=    2216kB time=00:00:07.01 bitrate=2588.2kbits/s speed=0.947x    \nvideo:2097kB audio:110kB subtitle:0kB other streams:0kB global headers:0kB muxing overhead: 0.398637%\n[libx264 @ 0x5833b68f9b80] frame I:2     Avg QP:25.30  size: 71442\n[libx264 @ 0x5833b68f9b80] frame P:91    Avg QP:25.04  size: 16383\n[libx264 @ 0x5833b68f9b80] frame B:117   Avg QP:29.52  size:  4383\n[libx264 @ 0x5833b68f9b80] consecutive B-frames:  1.0% 73.3%  2.9% 22.9%\n[libx264 @ 0x5833b68f9b80] mb I  I16..4:  8.7% 56.9% 34.4%\n[libx264 @ 0x5833b68f9b80] mb P  I16..4:  2.6%  6.1%  2.2%  P16..4: 45.5% 15.4%  5.0%  0.0%  0.0%    skip:23.2%\n[libx264 @ 0x5833b68f9b80] mb B  I16..4:  0.4%  0.7%  0.3%  B16..8: 42.2%  4.2%  0.6%  direct: 1.2%  skip:50.4%  L0:33.2% L1:56.5% BI:10.4%\n[libx264 @ 0x5833b68f9b80] 8x8 transform intra:55.3% inter:56.6%\n[libx264 @ 0x5833b68f9b80] coded y,uvDC,uvAC intra: 55.9% 65.0% 26.2% inter: 9.7% 10.2% 0.4%\n[libx264 @ 0x5833b68f9b80] i16 v,h,dc,p: 17% 43% 10% 30%\n[libx264 @ 0x5833b68f9b80] i8 v,h,dc,ddl,ddr,vr,hd,vl,hu: 25% 28% 17%  4%  4%  5%  5%  6%  7%\n[libx264 @ 0x5833b68f9b80] i4 v,h,dc,ddl,ddr,vr,hd,vl,hu: 28% 25% 17%  5%  5%  6%  5%  5%  4%\n[libx264 @ 0x5833b68f9b80] i8c dc,h,v,p: 40% 29% 19% 12%\n[libx264 @ 0x5833b68f9b80] Weighted P-Frames: Y:0.0% UV:0.0%\n[libx264 @ 0x5833b68f9b80] ref P L0: 74.7% 17.7%  5.6%  2.0%\n[libx264 @ 0x5833b68f9b80] ref B L0: 95.6%  4.0%  0.4%\n[libx264 @ 0x5833b68f9b80] ref B L1: 99.8%  0.2%\n[libx264 @ 0x5833b68f9b80] kb/s:2453.20\n[aac @ 0x5833b68f9180] Qavg: 186.657\nffmpeg version 4.2.7-0ubuntu0.1 Copyright (c) 2000-2022 the FFmpeg developers\n  built with gcc 9 (Ubuntu 9.4.0-1ubuntu1~20.04.1)\n  configuration: --prefix=/usr --extra-version=0ubuntu0.1 --toolchain=hardened --libdir=/usr/lib/x86_64-linux-gnu --incdir=/usr/include/x86_64-linux-gnu --arch=amd64 --enable-gpl --disable-stripping --enable-avresample --disable-filter=resample --enable-avisynth --enable-gnutls --enable-ladspa --enable-libaom --enable-libass --enable-libbluray --enable-libbs2b --enable-libcaca --enable-libcdio --enable-libcodec2 --enable-libflite --enable-libfontconfig --enable-libfreetype --enable-libfribidi --enable-libgme --enable-libgsm --enable-libjack --enable-libmp3lame --enable-libmysofa --enable-libopenjpeg --enable-libopenmpt --enable-libopus --enable-libpulse --enable-librsvg --enable-librubberband --enable-libshine --enable-libsnappy --enable-libsoxr --enable-libspeex --enable-libssh --enable-libtheora --enable-libtwolame --enable-libvidstab --enable-libvorbis --enable-libvpx --enable-libwavpack --enable-libwebp --enable-libx265 --enable-libxml2 --enable-libxvid --enable-libzmq --enable-libzvbi --enable-lv2 --enable-omx --enable-openal --enable-opencl --enable-opengl --enable-sdl2 --enable-libdc1394 --enable-libdrm --enable-libiec61883 --enable-nvenc --enable-chromaprint --enable-frei0r --enable-libx264 --enable-shared\n  libavutil      56. 31.100 / 56. 31.100\n  libavcodec     58. 54.100 / 58. 54.100\n  libavformat    58. 29.100 / 58. 29.100\n  libavdevice    58.  8.100 / 58.  8.100\n  libavfilter     7. 57.100 /  7. 57.100\n  libavresample   4.  0.  0 /  4.  0.  0\n  libswscale      5.  5.100 /  5.  5.100\n  libswresample   3.  5.100 /  3.  5.100\n  libpostproc    55.  5.100 / 55.  5.100\nInput #0, mov,mp4,m4a,3gp,3g2,mj2, from '/kaggle/input/videos-gemini-highlights/nba.mp4':\n  Metadata:\n    major_brand     : isom\n    minor_version   : 512\n    compatible_brands: isomiso2avc1mp41\n    encoder         : Lavf59.16.100\n  Duration: 00:43:35.43, start: 0.000000, bitrate: 1217 kb/s\n    Stream #0:0(und): Video: h264 (Main) (avc1 / 0x31637661), yuv420p(tv, bt709), 1280x720 [SAR 1:1 DAR 16:9], 1081 kb/s, 30 fps, 30 tbr, 15360 tbn, 60 tbc (default)\n    Metadata:\n      handler_name    : ISO Media file produced by Google Inc.\n    Stream #0:1(und): Audio: aac (LC) (mp4a / 0x6134706D), 44100 Hz, stereo, fltp, 128 kb/s (default)\n    Metadata:\n      handler_name    : ISO Media file produced by Google Inc.\n[Parsed_drawtext_0 @ 0x58fca177ce00] Using \"/opt/conda/fonts/DejaVuSans.ttf\"\nStream mapping:\n  Stream #0:0 (h264) -> drawtext (graph 0)\n  drawtext (graph 0) -> Stream #0:0 (libx264)\n  Stream #0:1 -> #0:1 (aac (native) -> aac (native))\nPress [q] to stop, [?] for help\n[Parsed_drawtext_0 @ 0x58fca1b25440] Using \"/opt/conda/fonts/DejaVuSans.ttf\"\n[libx264 @ 0x58fca1938600] using SAR=1/1\n[libx264 @ 0x58fca1938600] using cpu capabilities: MMX2 SSE2Fast SSSE3 SSE4.2 AVX FMA3 BMI2 AVX2\n[libx264 @ 0x58fca1938600] profile High, level 3.1\n[libx264 @ 0x58fca1938600] 264 - core 155 r2917 0a84d98 - H.264/MPEG-4 AVC codec - Copyleft 2003-2018 - http://www.videolan.org/x264.html - options: cabac=1 ref=3 deblock=1:0:0 analyse=0x3:0x113 me=hex subme=7 psy=1 psy_rd=1.00:0.00 mixed_ref=1 me_range=16 chroma_me=1 trellis=1 8x8dct=1 cqm=0 deadzone=21,11 fast_pskip=1 chroma_qp_offset=-2 threads=6 lookahead_threads=1 sliced_threads=0 nr=0 decimate=1 interlaced=0 bluray_compat=0 constrained_intra=0 bframes=3 b_pyramid=2 b_adapt=1 b_bias=0 direct=1 weightb=1 open_gop=0 weightp=2 keyint=250 keyint_min=25 scenecut=40 intra_refresh=0 rc_lookahead=40 rc=crf mbtree=1 crf=23.0 qcomp=0.60 qpmin=0 qpmax=69 qpstep=4 ip_ratio=1.40 aq=1:1.00\nOutput #0, mp4, to '/tmp/tmphqgi0h1v/clip_4.mp4':\n  Metadata:\n    major_brand     : isom\n    minor_version   : 512\n    compatible_brands: isomiso2avc1mp41\n    encoder         : Lavf58.29.100\n    Stream #0:0: Video: h264 (libx264) (avc1 / 0x31637661), yuv420p, 1280x720 [SAR 1:1 DAR 16:9], q=-1--1, 30 fps, 15360 tbn, 30 tbc (default)\n    Metadata:\n      encoder         : Lavc58.54.100 libx264\n    Side data:\n      cpb: bitrate max/min/avg: 0/0/0 buffer size: 0 vbv_delay: -1\n    Stream #0:1(und): Audio: aac (LC) (mp4a / 0x6134706D), 44100 Hz, stereo, fltp, 128 kb/s (default)\n    Metadata:\n      handler_name    : ISO Media file produced by Google Inc.\n      encoder         : Lavc58.54.100 aac\nframe=  150 fps= 28 q=-1.0 Lsize=    1662kB time=00:00:05.01 bitrate=2713.8kbits/s speed=0.925x    \nvideo:1577kB audio:78kB subtitle:0kB other streams:0kB global headers:0kB muxing overhead: 0.402930%\n[libx264 @ 0x58fca1938600] frame I:1     Avg QP:24.55  size: 88714\n[libx264 @ 0x58fca1938600] frame P:73    Avg QP:25.29  size: 16597\n[libx264 @ 0x58fca1938600] frame B:76    Avg QP:30.55  size:  4127\n[libx264 @ 0x58fca1938600] consecutive B-frames:  2.0% 89.3%  6.0%  2.7%\n[libx264 @ 0x58fca1938600] mb I  I16..4:  6.0% 55.9% 38.1%\n[libx264 @ 0x58fca1938600] mb P  I16..4:  1.7%  4.0%  2.2%  P16..4: 46.4% 15.9%  5.3%  0.0%  0.0%    skip:24.4%\n[libx264 @ 0x58fca1938600] mb B  I16..4:  0.2%  0.5%  0.3%  B16..8: 40.7%  3.9%  0.8%  direct: 1.1%  skip:52.5%  L0:27.9% L1:62.5% BI: 9.6%\n[libx264 @ 0x58fca1938600] 8x8 transform intra:51.1% inter:57.5%\n[libx264 @ 0x58fca1938600] coded y,uvDC,uvAC intra: 62.1% 67.6% 29.6% inter: 10.3% 10.6% 1.0%\n[libx264 @ 0x58fca1938600] i16 v,h,dc,p: 14% 54% 10% 22%\n[libx264 @ 0x58fca1938600] i8 v,h,dc,ddl,ddr,vr,hd,vl,hu: 21% 28% 18%  4%  4%  5%  5%  6%  7%\n[libx264 @ 0x58fca1938600] i4 v,h,dc,ddl,ddr,vr,hd,vl,hu: 27% 26% 17%  5%  5%  6%  5%  5%  4%\n[libx264 @ 0x58fca1938600] i8c dc,h,v,p: 42% 28% 19% 12%\n[libx264 @ 0x58fca1938600] Weighted P-Frames: Y:0.0% UV:0.0%\n[libx264 @ 0x58fca1938600] ref P L0: 75.8% 18.2%  4.1%  1.9%\n[libx264 @ 0x58fca1938600] ref B L0: 94.7%  5.1%  0.2%\n[libx264 @ 0x58fca1938600] ref B L1: 100.0%  0.0%\n[libx264 @ 0x58fca1938600] kb/s:2582.38\n[aac @ 0x58fca185f580] Qavg: 487.538\nffmpeg version 4.2.7-0ubuntu0.1 Copyright (c) 2000-2022 the FFmpeg developers\n  built with gcc 9 (Ubuntu 9.4.0-1ubuntu1~20.04.1)\n  configuration: --prefix=/usr --extra-version=0ubuntu0.1 --toolchain=hardened --libdir=/usr/lib/x86_64-linux-gnu --incdir=/usr/include/x86_64-linux-gnu --arch=amd64 --enable-gpl --disable-stripping --enable-avresample --disable-filter=resample --enable-avisynth --enable-gnutls --enable-ladspa --enable-libaom --enable-libass --enable-libbluray --enable-libbs2b --enable-libcaca --enable-libcdio --enable-libcodec2 --enable-libflite --enable-libfontconfig --enable-libfreetype --enable-libfribidi --enable-libgme --enable-libgsm --enable-libjack --enable-libmp3lame --enable-libmysofa --enable-libopenjpeg --enable-libopenmpt --enable-libopus --enable-libpulse --enable-librsvg --enable-librubberband --enable-libshine --enable-libsnappy --enable-libsoxr --enable-libspeex --enable-libssh --enable-libtheora --enable-libtwolame --enable-libvidstab --enable-libvorbis --enable-libvpx --enable-libwavpack --enable-libwebp --enable-libx265 --enable-libxml2 --enable-libxvid --enable-libzmq --enable-libzvbi --enable-lv2 --enable-omx --enable-openal --enable-opencl --enable-opengl --enable-sdl2 --enable-libdc1394 --enable-libdrm --enable-libiec61883 --enable-nvenc --enable-chromaprint --enable-frei0r --enable-libx264 --enable-shared\n  libavutil      56. 31.100 / 56. 31.100\n  libavcodec     58. 54.100 / 58. 54.100\n  libavformat    58. 29.100 / 58. 29.100\n  libavdevice    58.  8.100 / 58.  8.100\n  libavfilter     7. 57.100 /  7. 57.100\n  libavresample   4.  0.  0 /  4.  0.  0\n  libswscale      5.  5.100 /  5.  5.100\n  libswresample   3.  5.100 /  3.  5.100\n  libpostproc    55.  5.100 / 55.  5.100\nInput #0, mov,mp4,m4a,3gp,3g2,mj2, from '/kaggle/input/videos-gemini-highlights/nba.mp4':\n  Metadata:\n    major_brand     : isom\n    minor_version   : 512\n    compatible_brands: isomiso2avc1mp41\n    encoder         : Lavf59.16.100\n  Duration: 00:43:35.43, start: 0.000000, bitrate: 1217 kb/s\n    Stream #0:0(und): Video: h264 (Main) (avc1 / 0x31637661), yuv420p(tv, bt709), 1280x720 [SAR 1:1 DAR 16:9], 1081 kb/s, 30 fps, 30 tbr, 15360 tbn, 60 tbc (default)\n    Metadata:\n      handler_name    : ISO Media file produced by Google Inc.\n    Stream #0:1(und): Audio: aac (LC) (mp4a / 0x6134706D), 44100 Hz, stereo, fltp, 128 kb/s (default)\n    Metadata:\n      handler_name    : ISO Media file produced by Google Inc.\n[Parsed_drawtext_0 @ 0x5b7dbf56dec0] Using \"/opt/conda/fonts/DejaVuSans.ttf\"\nStream mapping:\n  Stream #0:0 (h264) -> drawtext (graph 0)\n  drawtext (graph 0) -> Stream #0:0 (libx264)\n  Stream #0:1 -> #0:1 (aac (native) -> aac (native))\nPress [q] to stop, [?] for help\n[Parsed_drawtext_0 @ 0x5b7dbf82a480] Using \"/opt/conda/fonts/DejaVuSans.ttf\"\n[libx264 @ 0x5b7dbf63ce00] using SAR=1/1\n[libx264 @ 0x5b7dbf63ce00] using cpu capabilities: MMX2 SSE2Fast SSSE3 SSE4.2 AVX FMA3 BMI2 AVX2\n[libx264 @ 0x5b7dbf63ce00] profile High, level 3.1\n[libx264 @ 0x5b7dbf63ce00] 264 - core 155 r2917 0a84d98 - H.264/MPEG-4 AVC codec - Copyleft 2003-2018 - http://www.videolan.org/x264.html - options: cabac=1 ref=3 deblock=1:0:0 analyse=0x3:0x113 me=hex subme=7 psy=1 psy_rd=1.00:0.00 mixed_ref=1 me_range=16 chroma_me=1 trellis=1 8x8dct=1 cqm=0 deadzone=21,11 fast_pskip=1 chroma_qp_offset=-2 threads=6 lookahead_threads=1 sliced_threads=0 nr=0 decimate=1 interlaced=0 bluray_compat=0 constrained_intra=0 bframes=3 b_pyramid=2 b_adapt=1 b_bias=0 direct=1 weightb=1 open_gop=0 weightp=2 keyint=250 keyint_min=25 scenecut=40 intra_refresh=0 rc_lookahead=40 rc=crf mbtree=1 crf=23.0 qcomp=0.60 qpmin=0 qpmax=69 qpstep=4 ip_ratio=1.40 aq=1:1.00\nOutput #0, mp4, to '/tmp/tmphqgi0h1v/clip_5.mp4':\n  Metadata:\n    major_brand     : isom\n    minor_version   : 512\n    compatible_brands: isomiso2avc1mp41\n    encoder         : Lavf58.29.100\n    Stream #0:0: Video: h264 (libx264) (avc1 / 0x31637661), yuv420p, 1280x720 [SAR 1:1 DAR 16:9], q=-1--1, 30 fps, 15360 tbn, 30 tbc (default)\n    Metadata:\n      encoder         : Lavc58.54.100 libx264\n    Side data:\n      cpb: bitrate max/min/avg: 0/0/0 buffer size: 0 vbv_delay: -1\n    Stream #0:1(und): Audio: aac (LC) (mp4a / 0x6134706D), 44100 Hz, stereo, fltp, 128 kb/s (default)\n    Metadata:\n      handler_name    : ISO Media file produced by Google Inc.\n      encoder         : Lavc58.54.100 aac\nframe=  150 fps= 26 q=-1.0 Lsize=    1626kB time=00:00:05.01 bitrate=2656.2kbits/s speed=0.882x    \nvideo:1542kB audio:78kB subtitle:0kB other streams:0kB global headers:0kB muxing overhead: 0.410263%\n[libx264 @ 0x5b7dbf63ce00] frame I:1     Avg QP:24.14  size: 87609\n[libx264 @ 0x5b7dbf63ce00] frame P:71    Avg QP:25.19  size: 15690\n[libx264 @ 0x5b7dbf63ce00] frame B:78    Avg QP:30.46  size:  4823\n[libx264 @ 0x5b7dbf63ce00] consecutive B-frames:  1.3% 84.0% 12.0%  2.7%\n[libx264 @ 0x5b7dbf63ce00] mb I  I16..4:  5.4% 61.1% 33.5%\n[libx264 @ 0x5b7dbf63ce00] mb P  I16..4:  1.8%  4.7%  2.5%  P16..4: 44.8% 15.7%  4.6%  0.0%  0.0%    skip:25.9%\n[libx264 @ 0x5b7dbf63ce00] mb B  I16..4:  0.5%  1.2%  0.7%  B16..8: 41.2%  4.3%  0.6%  direct: 1.0%  skip:50.6%  L0:30.0% L1:59.2% BI:10.8%\n[libx264 @ 0x5b7dbf63ce00] 8x8 transform intra:52.5% inter:57.2%\n[libx264 @ 0x5b7dbf63ce00] coded y,uvDC,uvAC intra: 61.4% 64.6% 28.7% inter: 9.6% 10.5% 0.6%\n[libx264 @ 0x5b7dbf63ce00] i16 v,h,dc,p: 18% 47% 10% 25%\n[libx264 @ 0x5b7dbf63ce00] i8 v,h,dc,ddl,ddr,vr,hd,vl,hu: 23% 26% 18%  4%  5%  6%  5%  6%  7%\n[libx264 @ 0x5b7dbf63ce00] i4 v,h,dc,ddl,ddr,vr,hd,vl,hu: 28% 24% 18%  5%  5%  6%  5%  5%  4%\n[libx264 @ 0x5b7dbf63ce00] i8c dc,h,v,p: 42% 27% 19% 12%\n[libx264 @ 0x5b7dbf63ce00] Weighted P-Frames: Y:1.4% UV:1.4%\n[libx264 @ 0x5b7dbf63ce00] ref P L0: 76.0% 17.9%  4.2%  1.9%  0.0%\n[libx264 @ 0x5b7dbf63ce00] ref B L0: 95.2%  4.6%  0.1%\n[libx264 @ 0x5b7dbf63ce00] ref B L1: 100.0%  0.0%\n[libx264 @ 0x5b7dbf63ce00] kb/s:2524.51\n[aac @ 0x5b7dbf62d300] Qavg: 484.864\nffmpeg version 4.2.7-0ubuntu0.1 Copyright (c) 2000-2022 the FFmpeg developers\n  built with gcc 9 (Ubuntu 9.4.0-1ubuntu1~20.04.1)\n  configuration: --prefix=/usr --extra-version=0ubuntu0.1 --toolchain=hardened --libdir=/usr/lib/x86_64-linux-gnu --incdir=/usr/include/x86_64-linux-gnu --arch=amd64 --enable-gpl --disable-stripping --enable-avresample --disable-filter=resample --enable-avisynth --enable-gnutls --enable-ladspa --enable-libaom --enable-libass --enable-libbluray --enable-libbs2b --enable-libcaca --enable-libcdio --enable-libcodec2 --enable-libflite --enable-libfontconfig --enable-libfreetype --enable-libfribidi --enable-libgme --enable-libgsm --enable-libjack --enable-libmp3lame --enable-libmysofa --enable-libopenjpeg --enable-libopenmpt --enable-libopus --enable-libpulse --enable-librsvg --enable-librubberband --enable-libshine --enable-libsnappy --enable-libsoxr --enable-libspeex --enable-libssh --enable-libtheora --enable-libtwolame --enable-libvidstab --enable-libvorbis --enable-libvpx --enable-libwavpack --enable-libwebp --enable-libx265 --enable-libxml2 --enable-libxvid --enable-libzmq --enable-libzvbi --enable-lv2 --enable-omx --enable-openal --enable-opencl --enable-opengl --enable-sdl2 --enable-libdc1394 --enable-libdrm --enable-libiec61883 --enable-nvenc --enable-chromaprint --enable-frei0r --enable-libx264 --enable-shared\n  libavutil      56. 31.100 / 56. 31.100\n  libavcodec     58. 54.100 / 58. 54.100\n  libavformat    58. 29.100 / 58. 29.100\n  libavdevice    58.  8.100 / 58.  8.100\n  libavfilter     7. 57.100 /  7. 57.100\n  libavresample   4.  0.  0 /  4.  0.  0\n  libswscale      5.  5.100 /  5.  5.100\n  libswresample   3.  5.100 /  3.  5.100\n  libpostproc    55.  5.100 / 55.  5.100\nInput #0, mov,mp4,m4a,3gp,3g2,mj2, from '/kaggle/input/videos-gemini-highlights/nba.mp4':\n  Metadata:\n    major_brand     : isom\n    minor_version   : 512\n    compatible_brands: isomiso2avc1mp41\n    encoder         : Lavf59.16.100\n  Duration: 00:43:35.43, start: 0.000000, bitrate: 1217 kb/s\n    Stream #0:0(und): Video: h264 (Main) (avc1 / 0x31637661), yuv420p(tv, bt709), 1280x720 [SAR 1:1 DAR 16:9], 1081 kb/s, 30 fps, 30 tbr, 15360 tbn, 60 tbc (default)\n    Metadata:\n      handler_name    : ISO Media file produced by Google Inc.\n    Stream #0:1(und): Audio: aac (LC) (mp4a / 0x6134706D), 44100 Hz, stereo, fltp, 128 kb/s (default)\n    Metadata:\n      handler_name    : ISO Media file produced by Google Inc.\n[Parsed_drawtext_0 @ 0x5d3f67445ec0] Using \"/opt/conda/fonts/DejaVuSans.ttf\"\nStream mapping:\n  Stream #0:0 (h264) -> drawtext (graph 0)\n  drawtext (graph 0) -> Stream #0:0 (libx264)\n  Stream #0:1 -> #0:1 (aac (native) -> aac (native))\nPress [q] to stop, [?] for help\n[Parsed_drawtext_0 @ 0x5d3f677021c0] Using \"/opt/conda/fonts/DejaVuSans.ttf\"\n[libx264 @ 0x5d3f675187c0] using SAR=1/1\n[libx264 @ 0x5d3f675187c0] using cpu capabilities: MMX2 SSE2Fast SSSE3 SSE4.2 AVX FMA3 BMI2 AVX2\n[libx264 @ 0x5d3f675187c0] profile High, level 3.1\n[libx264 @ 0x5d3f675187c0] 264 - core 155 r2917 0a84d98 - H.264/MPEG-4 AVC codec - Copyleft 2003-2018 - http://www.videolan.org/x264.html - options: cabac=1 ref=3 deblock=1:0:0 analyse=0x3:0x113 me=hex subme=7 psy=1 psy_rd=1.00:0.00 mixed_ref=1 me_range=16 chroma_me=1 trellis=1 8x8dct=1 cqm=0 deadzone=21,11 fast_pskip=1 chroma_qp_offset=-2 threads=6 lookahead_threads=1 sliced_threads=0 nr=0 decimate=1 interlaced=0 bluray_compat=0 constrained_intra=0 bframes=3 b_pyramid=2 b_adapt=1 b_bias=0 direct=1 weightb=1 open_gop=0 weightp=2 keyint=250 keyint_min=25 scenecut=40 intra_refresh=0 rc_lookahead=40 rc=crf mbtree=1 crf=23.0 qcomp=0.60 qpmin=0 qpmax=69 qpstep=4 ip_ratio=1.40 aq=1:1.00\nOutput #0, mp4, to '/tmp/tmphqgi0h1v/clip_6.mp4':\n  Metadata:\n    major_brand     : isom\n    minor_version   : 512\n    compatible_brands: isomiso2avc1mp41\n    encoder         : Lavf58.29.100\n    Stream #0:0: Video: h264 (libx264) (avc1 / 0x31637661), yuv420p, 1280x720 [SAR 1:1 DAR 16:9], q=-1--1, 30 fps, 15360 tbn, 30 tbc (default)\n    Metadata:\n      encoder         : Lavc58.54.100 libx264\n    Side data:\n      cpb: bitrate max/min/avg: 0/0/0 buffer size: 0 vbv_delay: -1\n    Stream #0:1(und): Audio: aac (LC) (mp4a / 0x6134706D), 44100 Hz, stereo, fltp, 128 kb/s (default)\n    Metadata:\n      handler_name    : ISO Media file produced by Google Inc.\n      encoder         : Lavc58.54.100 aac\nframe=  330 fps= 28 q=-1.0 Lsize=    2838kB time=00:00:11.00 bitrate=2112.6kbits/s speed=0.935x    \nvideo:2652kB audio:173kB subtitle:0kB other streams:0kB global headers:0kB muxing overhead: 0.452888%\n[libx264 @ 0x5d3f675187c0] frame I:2     Avg QP:21.75  size: 37780\n[libx264 @ 0x5d3f675187c0] frame P:168   Avg QP:24.30  size: 12380\n[libx264 @ 0x5d3f675187c0] frame B:160   Avg QP:29.19  size:  3498\n[libx264 @ 0x5d3f675187c0] consecutive B-frames:  8.5% 75.8% 14.5%  1.2%\n[libx264 @ 0x5d3f675187c0] mb I  I16..4: 18.8% 67.6% 13.5%\n[libx264 @ 0x5d3f675187c0] mb P  I16..4:  3.7%  8.4%  2.2%  P16..4: 44.7%  8.5%  2.4%  0.0%  0.0%    skip:30.0%\n[libx264 @ 0x5d3f675187c0] mb B  I16..4:  0.4%  0.9%  0.3%  B16..8: 32.0%  2.7%  0.5%  direct: 0.7%  skip:62.6%  L0:39.3% L1:56.6% BI: 4.1%\n[libx264 @ 0x5d3f675187c0] 8x8 transform intra:59.0% inter:73.8%\n[libx264 @ 0x5d3f675187c0] coded y,uvDC,uvAC intra: 49.0% 58.8% 18.2% inter: 7.0% 9.6% 0.4%\n[libx264 @ 0x5d3f675187c0] i16 v,h,dc,p: 22% 38% 11% 29%\n[libx264 @ 0x5d3f675187c0] i8 v,h,dc,ddl,ddr,vr,hd,vl,hu: 26% 26% 20%  4%  4%  5%  5%  5%  6%\n[libx264 @ 0x5d3f675187c0] i4 v,h,dc,ddl,ddr,vr,hd,vl,hu: 27% 23% 17%  5%  6%  7%  6%  5%  4%\n[libx264 @ 0x5d3f675187c0] i8c dc,h,v,p: 47% 24% 19% 10%\n[libx264 @ 0x5d3f675187c0] Weighted P-Frames: Y:0.0% UV:0.0%\n[libx264 @ 0x5d3f675187c0] ref P L0: 78.1% 16.2%  3.9%  1.8%\n[libx264 @ 0x5d3f675187c0] ref B L0: 94.9%  4.7%  0.4%\n[libx264 @ 0x5d3f675187c0] ref B L1: 99.9%  0.1%\n[libx264 @ 0x5d3f675187c0] kb/s:1974.70\n[aac @ 0x5d3f674fe180] Qavg: 220.815\nffmpeg version 4.2.7-0ubuntu0.1 Copyright (c) 2000-2022 the FFmpeg developers\n  built with gcc 9 (Ubuntu 9.4.0-1ubuntu1~20.04.1)\n  configuration: --prefix=/usr --extra-version=0ubuntu0.1 --toolchain=hardened --libdir=/usr/lib/x86_64-linux-gnu --incdir=/usr/include/x86_64-linux-gnu --arch=amd64 --enable-gpl --disable-stripping --enable-avresample --disable-filter=resample --enable-avisynth --enable-gnutls --enable-ladspa --enable-libaom --enable-libass --enable-libbluray --enable-libbs2b --enable-libcaca --enable-libcdio --enable-libcodec2 --enable-libflite --enable-libfontconfig --enable-libfreetype --enable-libfribidi --enable-libgme --enable-libgsm --enable-libjack --enable-libmp3lame --enable-libmysofa --enable-libopenjpeg --enable-libopenmpt --enable-libopus --enable-libpulse --enable-librsvg --enable-librubberband --enable-libshine --enable-libsnappy --enable-libsoxr --enable-libspeex --enable-libssh --enable-libtheora --enable-libtwolame --enable-libvidstab --enable-libvorbis --enable-libvpx --enable-libwavpack --enable-libwebp --enable-libx265 --enable-libxml2 --enable-libxvid --enable-libzmq --enable-libzvbi --enable-lv2 --enable-omx --enable-openal --enable-opencl --enable-opengl --enable-sdl2 --enable-libdc1394 --enable-libdrm --enable-libiec61883 --enable-nvenc --enable-chromaprint --enable-frei0r --enable-libx264 --enable-shared\n  libavutil      56. 31.100 / 56. 31.100\n  libavcodec     58. 54.100 / 58. 54.100\n  libavformat    58. 29.100 / 58. 29.100\n  libavdevice    58.  8.100 / 58.  8.100\n  libavfilter     7. 57.100 /  7. 57.100\n  libavresample   4.  0.  0 /  4.  0.  0\n  libswscale      5.  5.100 /  5.  5.100\n  libswresample   3.  5.100 /  3.  5.100\n  libpostproc    55.  5.100 / 55.  5.100\nInput #0, mov,mp4,m4a,3gp,3g2,mj2, from '/kaggle/input/videos-gemini-highlights/nba.mp4':\n  Metadata:\n    major_brand     : isom\n    minor_version   : 512\n    compatible_brands: isomiso2avc1mp41\n    encoder         : Lavf59.16.100\n  Duration: 00:43:35.43, start: 0.000000, bitrate: 1217 kb/s\n    Stream #0:0(und): Video: h264 (Main) (avc1 / 0x31637661), yuv420p(tv, bt709), 1280x720 [SAR 1:1 DAR 16:9], 1081 kb/s, 30 fps, 30 tbr, 15360 tbn, 60 tbc (default)\n    Metadata:\n      handler_name    : ISO Media file produced by Google Inc.\n    Stream #0:1(und): Audio: aac (LC) (mp4a / 0x6134706D), 44100 Hz, stereo, fltp, 128 kb/s (default)\n    Metadata:\n      handler_name    : ISO Media file produced by Google Inc.\n[Parsed_drawtext_0 @ 0x56a4e3bb7ec0] Using \"/opt/conda/fonts/DejaVuSans.ttf\"\nStream mapping:\n  Stream #0:0 (h264) -> drawtext (graph 0)\n  drawtext (graph 0) -> Stream #0:0 (libx264)\n  Stream #0:1 -> #0:1 (aac (native) -> aac (native))\nPress [q] to stop, [?] for help\n[Parsed_drawtext_0 @ 0x56a4e3e74840] Using \"/opt/conda/fonts/DejaVuSans.ttf\"\n[libx264 @ 0x56a4e3c8cec0] using SAR=1/1\n[libx264 @ 0x56a4e3c8cec0] using cpu capabilities: MMX2 SSE2Fast SSSE3 SSE4.2 AVX FMA3 BMI2 AVX2\n[libx264 @ 0x56a4e3c8cec0] profile High, level 3.1\n[libx264 @ 0x56a4e3c8cec0] 264 - core 155 r2917 0a84d98 - H.264/MPEG-4 AVC codec - Copyleft 2003-2018 - http://www.videolan.org/x264.html - options: cabac=1 ref=3 deblock=1:0:0 analyse=0x3:0x113 me=hex subme=7 psy=1 psy_rd=1.00:0.00 mixed_ref=1 me_range=16 chroma_me=1 trellis=1 8x8dct=1 cqm=0 deadzone=21,11 fast_pskip=1 chroma_qp_offset=-2 threads=6 lookahead_threads=1 sliced_threads=0 nr=0 decimate=1 interlaced=0 bluray_compat=0 constrained_intra=0 bframes=3 b_pyramid=2 b_adapt=1 b_bias=0 direct=1 weightb=1 open_gop=0 weightp=2 keyint=250 keyint_min=25 scenecut=40 intra_refresh=0 rc_lookahead=40 rc=crf mbtree=1 crf=23.0 qcomp=0.60 qpmin=0 qpmax=69 qpstep=4 ip_ratio=1.40 aq=1:1.00\nOutput #0, mp4, to '/tmp/tmphqgi0h1v/clip_7.mp4':\n  Metadata:\n    major_brand     : isom\n    minor_version   : 512\n    compatible_brands: isomiso2avc1mp41\n    encoder         : Lavf58.29.100\n    Stream #0:0: Video: h264 (libx264) (avc1 / 0x31637661), yuv420p, 1280x720 [SAR 1:1 DAR 16:9], q=-1--1, 30 fps, 15360 tbn, 30 tbc (default)\n    Metadata:\n      encoder         : Lavc58.54.100 libx264\n    Side data:\n      cpb: bitrate max/min/avg: 0/0/0 buffer size: 0 vbv_delay: -1\n    Stream #0:1(und): Audio: aac (LC) (mp4a / 0x6134706D), 44100 Hz, stereo, fltp, 128 kb/s (default)\n    Metadata:\n      handler_name    : ISO Media file produced by Google Inc.\n      encoder         : Lavc58.54.100 aac\nframe=  180 fps= 27 q=-1.0 Lsize=    1989kB time=00:00:06.01 bitrate=2709.9kbits/s speed=0.898x    \nvideo:1888kB audio:94kB subtitle:0kB other streams:0kB global headers:0kB muxing overhead: 0.390291%\n[libx264 @ 0x56a4e3c8cec0] frame I:1     Avg QP:24.58  size: 96913\n[libx264 @ 0x56a4e3c8cec0] frame P:61    Avg QP:24.70  size: 20359\n[libx264 @ 0x56a4e3c8cec0] frame B:118   Avg QP:30.30  size:  5031\n[libx264 @ 0x56a4e3c8cec0] consecutive B-frames:  2.2% 30.0%  3.3% 64.4%\n[libx264 @ 0x56a4e3c8cec0] mb I  I16..4:  5.8% 56.5% 37.8%\n[libx264 @ 0x56a4e3c8cec0] mb P  I16..4:  2.1%  5.1%  3.2%  P16..4: 40.4% 18.1%  8.2%  0.0%  0.0%    skip:22.9%\n[libx264 @ 0x56a4e3c8cec0] mb B  I16..4:  0.4%  0.7%  0.4%  B16..8: 42.9%  5.5%  1.1%  direct: 1.6%  skip:47.4%  L0:39.2% L1:53.2% BI: 7.6%\n[libx264 @ 0x56a4e3c8cec0] 8x8 transform intra:48.7% inter:57.0%\n[libx264 @ 0x56a4e3c8cec0] coded y,uvDC,uvAC intra: 56.1% 67.3% 33.3% inter: 9.8% 12.2% 1.2%\n[libx264 @ 0x56a4e3c8cec0] i16 v,h,dc,p: 18% 48% 13% 21%\n[libx264 @ 0x56a4e3c8cec0] i8 v,h,dc,ddl,ddr,vr,hd,vl,hu: 23% 29% 18%  4%  4%  5%  5%  5%  7%\n[libx264 @ 0x56a4e3c8cec0] i4 v,h,dc,ddl,ddr,vr,hd,vl,hu: 25% 25% 17%  5%  6%  7%  6%  5%  4%\n[libx264 @ 0x56a4e3c8cec0] i8c dc,h,v,p: 43% 29% 19% 10%\n[libx264 @ 0x56a4e3c8cec0] Weighted P-Frames: Y:0.0% UV:0.0%\n[libx264 @ 0x56a4e3c8cec0] ref P L0: 72.2% 16.3%  9.4%  2.0%\n[libx264 @ 0x56a4e3c8cec0] ref B L0: 94.8%  4.5%  0.7%\n[libx264 @ 0x56a4e3c8cec0] ref B L1: 99.2%  0.8%\n[libx264 @ 0x56a4e3c8cec0] kb/s:2576.62\n[aac @ 0x56a4e3c87680] Qavg: 435.537\nffmpeg version 4.2.7-0ubuntu0.1 Copyright (c) 2000-2022 the FFmpeg developers\n  built with gcc 9 (Ubuntu 9.4.0-1ubuntu1~20.04.1)\n  configuration: --prefix=/usr --extra-version=0ubuntu0.1 --toolchain=hardened --libdir=/usr/lib/x86_64-linux-gnu --incdir=/usr/include/x86_64-linux-gnu --arch=amd64 --enable-gpl --disable-stripping --enable-avresample --disable-filter=resample --enable-avisynth --enable-gnutls --enable-ladspa --enable-libaom --enable-libass --enable-libbluray --enable-libbs2b --enable-libcaca --enable-libcdio --enable-libcodec2 --enable-libflite --enable-libfontconfig --enable-libfreetype --enable-libfribidi --enable-libgme --enable-libgsm --enable-libjack --enable-libmp3lame --enable-libmysofa --enable-libopenjpeg --enable-libopenmpt --enable-libopus --enable-libpulse --enable-librsvg --enable-librubberband --enable-libshine --enable-libsnappy --enable-libsoxr --enable-libspeex --enable-libssh --enable-libtheora --enable-libtwolame --enable-libvidstab --enable-libvorbis --enable-libvpx --enable-libwavpack --enable-libwebp --enable-libx265 --enable-libxml2 --enable-libxvid --enable-libzmq --enable-libzvbi --enable-lv2 --enable-omx --enable-openal --enable-opencl --enable-opengl --enable-sdl2 --enable-libdc1394 --enable-libdrm --enable-libiec61883 --enable-nvenc --enable-chromaprint --enable-frei0r --enable-libx264 --enable-shared\n  libavutil      56. 31.100 / 56. 31.100\n  libavcodec     58. 54.100 / 58. 54.100\n  libavformat    58. 29.100 / 58. 29.100\n  libavdevice    58.  8.100 / 58.  8.100\n  libavfilter     7. 57.100 /  7. 57.100\n  libavresample   4.  0.  0 /  4.  0.  0\n  libswscale      5.  5.100 /  5.  5.100\n  libswresample   3.  5.100 /  3.  5.100\n  libpostproc    55.  5.100 / 55.  5.100\nInput #0, mov,mp4,m4a,3gp,3g2,mj2, from '/kaggle/input/videos-gemini-highlights/nba.mp4':\n  Metadata:\n    major_brand     : isom\n    minor_version   : 512\n    compatible_brands: isomiso2avc1mp41\n    encoder         : Lavf59.16.100\n  Duration: 00:43:35.43, start: 0.000000, bitrate: 1217 kb/s\n    Stream #0:0(und): Video: h264 (Main) (avc1 / 0x31637661), yuv420p(tv, bt709), 1280x720 [SAR 1:1 DAR 16:9], 1081 kb/s, 30 fps, 30 tbr, 15360 tbn, 60 tbc (default)\n    Metadata:\n      handler_name    : ISO Media file produced by Google Inc.\n    Stream #0:1(und): Audio: aac (LC) (mp4a / 0x6134706D), 44100 Hz, stereo, fltp, 128 kb/s (default)\n    Metadata:\n      handler_name    : ISO Media file produced by Google Inc.\n[Parsed_drawtext_0 @ 0x5747a9f36ec0] Using \"/opt/conda/fonts/DejaVuSans.ttf\"\nStream mapping:\n  Stream #0:0 (h264) -> drawtext (graph 0)\n  drawtext (graph 0) -> Stream #0:0 (libx264)\n  Stream #0:1 -> #0:1 (aac (native) -> aac (native))\nPress [q] to stop, [?] for help\n[Parsed_drawtext_0 @ 0x5747aa1f3140] Using \"/opt/conda/fonts/DejaVuSans.ttf\"\n[libx264 @ 0x5747aa01fec0] using SAR=1/1\n[libx264 @ 0x5747aa01fec0] using cpu capabilities: MMX2 SSE2Fast SSSE3 SSE4.2 AVX FMA3 BMI2 AVX2\n[libx264 @ 0x5747aa01fec0] profile High, level 3.1\n[libx264 @ 0x5747aa01fec0] 264 - core 155 r2917 0a84d98 - H.264/MPEG-4 AVC codec - Copyleft 2003-2018 - http://www.videolan.org/x264.html - options: cabac=1 ref=3 deblock=1:0:0 analyse=0x3:0x113 me=hex subme=7 psy=1 psy_rd=1.00:0.00 mixed_ref=1 me_range=16 chroma_me=1 trellis=1 8x8dct=1 cqm=0 deadzone=21,11 fast_pskip=1 chroma_qp_offset=-2 threads=6 lookahead_threads=1 sliced_threads=0 nr=0 decimate=1 interlaced=0 bluray_compat=0 constrained_intra=0 bframes=3 b_pyramid=2 b_adapt=1 b_bias=0 direct=1 weightb=1 open_gop=0 weightp=2 keyint=250 keyint_min=25 scenecut=40 intra_refresh=0 rc_lookahead=40 rc=crf mbtree=1 crf=23.0 qcomp=0.60 qpmin=0 qpmax=69 qpstep=4 ip_ratio=1.40 aq=1:1.00\nOutput #0, mp4, to '/tmp/tmphqgi0h1v/clip_8.mp4':\n  Metadata:\n    major_brand     : isom\n    minor_version   : 512\n    compatible_brands: isomiso2avc1mp41\n    encoder         : Lavf58.29.100\n    Stream #0:0: Video: h264 (libx264) (avc1 / 0x31637661), yuv420p, 1280x720 [SAR 1:1 DAR 16:9], q=-1--1, 30 fps, 15360 tbn, 30 tbc (default)\n    Metadata:\n      encoder         : Lavc58.54.100 libx264\n    Side data:\n      cpb: bitrate max/min/avg: 0/0/0 buffer size: 0 vbv_delay: -1\n    Stream #0:1(und): Audio: aac (LC) (mp4a / 0x6134706D), 44100 Hz, stereo, fltp, 128 kb/s (default)\n    Metadata:\n      handler_name    : ISO Media file produced by Google Inc.\n      encoder         : Lavc58.54.100 aac\nframe=  150 fps= 26 q=-1.0 Lsize=    1506kB time=00:00:05.01 bitrate=2460.0kbits/s speed=0.861x    \nvideo:1422kB audio:78kB subtitle:0kB other streams:0kB global headers:0kB muxing overhead: 0.431608%\n[libx264 @ 0x5747aa01fec0] frame I:1     Avg QP:24.23  size: 91836\n[libx264 @ 0x5747aa01fec0] frame P:74    Avg QP:24.58  size: 13946\n[libx264 @ 0x5747aa01fec0] frame B:75    Avg QP:29.43  size:  4417\n[libx264 @ 0x5747aa01fec0] consecutive B-frames: 21.3% 34.7%  4.0% 40.0%\n[libx264 @ 0x5747aa01fec0] mb I  I16..4:  5.6% 58.4% 35.9%\n[libx264 @ 0x5747aa01fec0] mb P  I16..4:  7.9% 13.2%  2.1%  P16..4: 37.9% 10.6%  3.8%  0.0%  0.0%    skip:24.6%\n[libx264 @ 0x5747aa01fec0] mb B  I16..4:  0.4%  0.5%  0.2%  B16..8: 45.7%  4.7%  0.8%  direct: 1.1%  skip:46.7%  L0:42.4% L1:51.7% BI: 5.8%\n[libx264 @ 0x5747aa01fec0] 8x8 transform intra:56.7% inter:69.1%\n[libx264 @ 0x5747aa01fec0] coded y,uvDC,uvAC intra: 36.1% 32.8% 8.1% inter: 9.4% 10.0% 0.6%\n[libx264 @ 0x5747aa01fec0] i16 v,h,dc,p: 20% 43% 10% 28%\n[libx264 @ 0x5747aa01fec0] i8 v,h,dc,ddl,ddr,vr,hd,vl,hu: 29% 31% 19%  2%  3%  4%  5%  3%  4%\n[libx264 @ 0x5747aa01fec0] i4 v,h,dc,ddl,ddr,vr,hd,vl,hu: 29% 29% 16%  4%  5%  5%  5%  4%  4%\n[libx264 @ 0x5747aa01fec0] i8c dc,h,v,p: 67% 18% 12%  4%\n[libx264 @ 0x5747aa01fec0] Weighted P-Frames: Y:0.0% UV:0.0%\n[libx264 @ 0x5747aa01fec0] ref P L0: 69.8% 17.0% 10.2%  3.0%\n[libx264 @ 0x5747aa01fec0] ref B L0: 93.0%  6.5%  0.5%\n[libx264 @ 0x5747aa01fec0] ref B L1: 99.1%  0.9%\n[libx264 @ 0x5747aa01fec0] kb/s:2328.21\n[aac @ 0x5747a9f35700] Qavg: 495.446\nffmpeg version 4.2.7-0ubuntu0.1 Copyright (c) 2000-2022 the FFmpeg developers\n  built with gcc 9 (Ubuntu 9.4.0-1ubuntu1~20.04.1)\n  configuration: --prefix=/usr --extra-version=0ubuntu0.1 --toolchain=hardened --libdir=/usr/lib/x86_64-linux-gnu --incdir=/usr/include/x86_64-linux-gnu --arch=amd64 --enable-gpl --disable-stripping --enable-avresample --disable-filter=resample --enable-avisynth --enable-gnutls --enable-ladspa --enable-libaom --enable-libass --enable-libbluray --enable-libbs2b --enable-libcaca --enable-libcdio --enable-libcodec2 --enable-libflite --enable-libfontconfig --enable-libfreetype --enable-libfribidi --enable-libgme --enable-libgsm --enable-libjack --enable-libmp3lame --enable-libmysofa --enable-libopenjpeg --enable-libopenmpt --enable-libopus --enable-libpulse --enable-librsvg --enable-librubberband --enable-libshine --enable-libsnappy --enable-libsoxr --enable-libspeex --enable-libssh --enable-libtheora --enable-libtwolame --enable-libvidstab --enable-libvorbis --enable-libvpx --enable-libwavpack --enable-libwebp --enable-libx265 --enable-libxml2 --enable-libxvid --enable-libzmq --enable-libzvbi --enable-lv2 --enable-omx --enable-openal --enable-opencl --enable-opengl --enable-sdl2 --enable-libdc1394 --enable-libdrm --enable-libiec61883 --enable-nvenc --enable-chromaprint --enable-frei0r --enable-libx264 --enable-shared\n  libavutil      56. 31.100 / 56. 31.100\n  libavcodec     58. 54.100 / 58. 54.100\n  libavformat    58. 29.100 / 58. 29.100\n  libavdevice    58.  8.100 / 58.  8.100\n  libavfilter     7. 57.100 /  7. 57.100\n  libavresample   4.  0.  0 /  4.  0.  0\n  libswscale      5.  5.100 /  5.  5.100\n  libswresample   3.  5.100 /  3.  5.100\n  libpostproc    55.  5.100 / 55.  5.100\n[mov,mp4,m4a,3gp,3g2,mj2 @ 0x57acf2d66c00] Auto-inserting h264_mp4toannexb bitstream filter\nInput #0, concat, from '/tmp/tmphqgi0h1v/concat_list.txt':\n  Duration: N/A, start: -0.023220, bitrate: 1367 kb/s\n    Stream #0:0(und): Video: h264 (High) (avc1 / 0x31637661), yuv420p, 1280x720 [SAR 1:1 DAR 16:9], 1235 kb/s, 30 fps, 30 tbr, 15360 tbn, 60 tbc\n    Metadata:\n      handler_name    : VideoHandler\n    Stream #0:1(und): Audio: aac (LC) (mp4a / 0x6134706D), 44100 Hz, stereo, fltp, 132 kb/s\n    Metadata:\n      handler_name    : ISO Media file produced by Google Inc.\nOutput #0, mp4, to 'output.mp4':\n  Metadata:\n    encoder         : Lavf58.29.100\n    Stream #0:0(und): Video: h264 (High) (avc1 / 0x31637661), yuv420p, 1280x720 [SAR 1:1 DAR 16:9], q=2-31, 1235 kb/s, 30 fps, 30 tbr, 15360 tbn, 15360 tbc\n    Metadata:\n      handler_name    : VideoHandler\n    Stream #0:1(und): Audio: aac (LC) (mp4a / 0x6134706D), 44100 Hz, stereo, fltp, 132 kb/s\n    Metadata:\n      handler_name    : ISO Media file produced by Google Inc.\nStream mapping:\n  Stream #0:0 -> #0:0 (copy)\n  Stream #0:1 -> #0:1 (copy)\nPress [q] to stop, [?] for help\n[mov,mp4,m4a,3gp,3g2,mj2 @ 0x57acf3126a00] Auto-inserting h264_mp4toannexb bitstream filter\n[mov,mp4,m4a,3gp,3g2,mj2 @ 0x57acf31269c0] Auto-inserting h264_mp4toannexb bitstream filter\n[mov,mp4,m4a,3gp,3g2,mj2 @ 0x57acf3126900] Auto-inserting h264_mp4toannexb bitstream filter\n    Last message repeated 2 times\n[mov,mp4,m4a,3gp,3g2,mj2 @ 0x57acf3092e40] Auto-inserting h264_mp4toannexb bitstream filter\n[mov,mp4,m4a,3gp,3g2,mj2 @ 0x57acf3126900] Auto-inserting h264_mp4toannexb bitstream filter\n[mov,mp4,m4a,3gp,3g2,mj2 @ 0x57acf308c380] Auto-inserting h264_mp4toannexb bitstream filter\nframe= 1965 fps=0.0 q=-1.0 Lsize=   19907kB time=00:01:05.70 bitrate=2481.8kbits/s speed= 330x    \nvideo:18807kB audio:1029kB subtitle:0kB other streams:0kB global headers:0kB muxing overhead: 0.354833%\n",
          "output_type": "stream"
        }
      ]
    },
    {
      "cell_type": "code",
      "source": [
        "from IPython.display import HTML\n",
        "from base64 import b64encode\n",
        "\n",
        "\n",
        "def play(filename):\n",
        "    # From: https://www.kaggle.com/code/mistag/play-video-in-notebook\n",
        "    html = ''\n",
        "    video = open(filename,'rb').read()\n",
        "    src = 'data:video/mp4;base64,' + b64encode(video).decode()\n",
        "    html += '<video width=1000 controls autoplay loop><source src=\"%s\" type=\"video/mp4\"></video>' % src\n",
        "    return HTML(html)\n",
        "\n",
        "\n",
        "play(output_video_path)"
      ],
      "metadata": {
        "execution": {
          "iopub.status.busy": "2024-10-21T15:25:59.511922Z",
          "iopub.execute_input": "2024-10-21T15:25:59.512512Z",
          "iopub.status.idle": "2024-10-21T15:26:00.141326Z",
          "shell.execute_reply.started": "2024-10-21T15:25:59.512456Z",
          "shell.execute_reply": "2024-10-21T15:26:00.139209Z"
        },
        "trusted": true,
        "id": "y88fCM9pvtDM"
      },
      "execution_count": null,
      "outputs": []
    }
  ]
}